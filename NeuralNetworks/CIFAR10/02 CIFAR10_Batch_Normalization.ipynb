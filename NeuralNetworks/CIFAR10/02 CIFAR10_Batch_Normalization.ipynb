{
 "cells": [
  {
   "cell_type": "code",
   "execution_count": 1,
   "id": "b4a20568-da54-4379-b7b4-180205b8ae9e",
   "metadata": {},
   "outputs": [],
   "source": [
    "import sys\n",
    "\n",
    "assert sys.version_info >= (3, 7)"
   ]
  },
  {
   "cell_type": "code",
   "execution_count": 2,
   "id": "0fe380be-ea86-4381-ab65-a3a9d44b11cb",
   "metadata": {},
   "outputs": [],
   "source": [
    "from packaging import version\n",
    "import tensorflow as tf\n",
    "\n",
    "assert version.parse(tf.__version__) >= version.parse(\"2.8.0\")"
   ]
  },
  {
   "cell_type": "code",
   "execution_count": 3,
   "id": "86ca73ae-99fc-49f8-a4f9-89be7d89964a",
   "metadata": {},
   "outputs": [],
   "source": [
    "from pathlib import Path"
   ]
  },
  {
   "cell_type": "code",
   "execution_count": 4,
   "id": "e0f3142d-7b9f-4b3c-afd3-3948ecbd284c",
   "metadata": {},
   "outputs": [],
   "source": [
    "# define the default font sizes to make the figures prettier:"
   ]
  },
  {
   "cell_type": "code",
   "execution_count": 8,
   "id": "5186fa33-5ae4-4532-9884-78c88853e948",
   "metadata": {},
   "outputs": [],
   "source": [
    "tf.random.set_seed(42)\n",
    "\n",
    "model = tf.keras.Sequential()\n",
    "model.add(tf.keras.layers.Flatten(input_shape=[32, 32, 3]))\n",
    "for _ in range(20):\n",
    "    model.add(tf.keras.layers.Dense(100, kernel_initializer=\"he_normal\"))\n",
    "    model.add(tf.keras.layers.BatchNormalization()) # Batch normalization requires adding an activation layer after\n",
    "    model.add(tf.keras.layers.Activation(\"swish\"))\n",
    "\n",
    "model.add(tf.keras.layers.Dense(10, activation=\"softmax\"))"
   ]
  },
  {
   "cell_type": "code",
   "execution_count": 9,
   "id": "c0bee388-328f-40c1-9f14-2d7ca39b6b46",
   "metadata": {},
   "outputs": [],
   "source": [
    "dataset = tf.keras.datasets.cifar10.load_data()"
   ]
  },
  {
   "cell_type": "code",
   "execution_count": 10,
   "id": "cbd8ea90-383c-4a01-838d-da0d543e5d39",
   "metadata": {},
   "outputs": [],
   "source": [
    "optimizer = tf.keras.optimizers.legacy.Nadam(learning_rate=5e-4) #Legacy cause made on a m2\n",
    "model.compile(loss=\"sparse_categorical_crossentropy\",\n",
    "              optimizer=optimizer,\n",
    "              metrics=[\"accuracy\"])"
   ]
  },
  {
   "cell_type": "code",
   "execution_count": 11,
   "id": "67b9e843-c45f-43ba-bf42-c6515cf9692b",
   "metadata": {},
   "outputs": [],
   "source": [
    "(X_train_full, y_train_full), (X_test, y_test) = dataset\n",
    "\n",
    "X_train = X_train_full[5000:]\n",
    "y_train = y_train_full[5000:]\n",
    "X_valid = X_train_full[:5000]\n",
    "y_valid = y_train_full[:5000]"
   ]
  },
  {
   "cell_type": "code",
   "execution_count": 12,
   "id": "cd18e4a9-614a-4fa5-abc7-670f6cbd2853",
   "metadata": {},
   "outputs": [],
   "source": [
    "early_stopping_cb = tf.keras.callbacks.EarlyStopping(patience=20,\n",
    "                                                     restore_best_weights=True)\n",
    "model_checkpoint_cb = tf.keras.callbacks.ModelCheckpoint(\"my_cifar10_bn_model.h5\",\n",
    "                                                         save_best_only=True)\n",
    "run_index = 1 # increment every time you train the model\n",
    "run_logdir = Path() / \"my_cifar10_logs\" / f\"run_{run_index:03d}\"\n",
    "tensorboard_cb = tf.keras.callbacks.TensorBoard(run_logdir)\n",
    "callbacks = [early_stopping_cb, model_checkpoint_cb, tensorboard_cb]"
   ]
  },
  {
   "cell_type": "code",
   "execution_count": 13,
   "id": "a7b1b412-8b6a-422e-9822-a21fcad1b187",
   "metadata": {},
   "outputs": [
    {
     "data": {
      "text/plain": [
       "Reusing TensorBoard on port 6006 (pid 10642), started 0:12:09 ago. (Use '!kill 10642' to kill it.)"
      ]
     },
     "metadata": {},
     "output_type": "display_data"
    },
    {
     "data": {
      "text/html": [
       "\n",
       "      <iframe id=\"tensorboard-frame-8c28507515e06a2\" width=\"100%\" height=\"800\" frameborder=\"0\">\n",
       "      </iframe>\n",
       "      <script>\n",
       "        (function() {\n",
       "          const frame = document.getElementById(\"tensorboard-frame-8c28507515e06a2\");\n",
       "          const url = new URL(\"/\", window.location);\n",
       "          const port = 6006;\n",
       "          if (port) {\n",
       "            url.port = port;\n",
       "          }\n",
       "          frame.src = url;\n",
       "        })();\n",
       "      </script>\n",
       "    "
      ],
      "text/plain": [
       "<IPython.core.display.HTML object>"
      ]
     },
     "metadata": {},
     "output_type": "display_data"
    }
   ],
   "source": [
    "%load_ext tensorboard\n",
    "%tensorboard --logdir=./my_cifar10_logs"
   ]
  },
  {
   "cell_type": "code",
   "execution_count": 14,
   "id": "70c0d4a4-b1c5-408d-a7bc-19ecb8a1ba69",
   "metadata": {},
   "outputs": [
    {
     "name": "stdout",
     "output_type": "stream",
     "text": [
      "Epoch 1/100\n",
      "1407/1407 [==============================] - 13s 7ms/step - loss: 2.0332 - accuracy: 0.2481 - val_loss: 2.2062 - val_accuracy: 0.2396\n",
      "Epoch 2/100\n",
      "  17/1407 [..............................] - ETA: 9s - loss: 1.8018 - accuracy: 0.3621 "
     ]
    },
    {
     "name": "stderr",
     "output_type": "stream",
     "text": [
      "/opt/anaconda3/envs/homl3/lib/python3.10/site-packages/keras/src/engine/training.py:3079: UserWarning: You are saving your model as an HDF5 file via `model.save()`. This file format is considered legacy. We recommend using instead the native Keras format, e.g. `model.save('my_model.keras')`.\n",
      "  saving_api.save_model(\n"
     ]
    },
    {
     "name": "stdout",
     "output_type": "stream",
     "text": [
      "1407/1407 [==============================] - 10s 7ms/step - loss: 1.7756 - accuracy: 0.3606 - val_loss: 1.8914 - val_accuracy: 0.3276\n",
      "Epoch 3/100\n",
      "1407/1407 [==============================] - 10s 7ms/step - loss: 1.6755 - accuracy: 0.3988 - val_loss: 2.0865 - val_accuracy: 0.2620\n",
      "Epoch 4/100\n",
      "1407/1407 [==============================] - 10s 7ms/step - loss: 1.6208 - accuracy: 0.4214 - val_loss: 1.6423 - val_accuracy: 0.4186\n",
      "Epoch 5/100\n",
      "1407/1407 [==============================] - 10s 7ms/step - loss: 1.5524 - accuracy: 0.4508 - val_loss: 1.7294 - val_accuracy: 0.3988\n",
      "Epoch 6/100\n",
      "1407/1407 [==============================] - 10s 7ms/step - loss: 1.5069 - accuracy: 0.4644 - val_loss: 1.5678 - val_accuracy: 0.4310\n",
      "Epoch 7/100\n",
      "1407/1407 [==============================] - 10s 7ms/step - loss: 1.4611 - accuracy: 0.4801 - val_loss: 1.6743 - val_accuracy: 0.4212\n",
      "Epoch 8/100\n",
      "1407/1407 [==============================] - 10s 7ms/step - loss: 1.4215 - accuracy: 0.4930 - val_loss: 1.5522 - val_accuracy: 0.4458\n",
      "Epoch 9/100\n",
      "1407/1407 [==============================] - 11s 8ms/step - loss: 1.3912 - accuracy: 0.5090 - val_loss: 1.5401 - val_accuracy: 0.4596\n",
      "Epoch 10/100\n",
      "1407/1407 [==============================] - 11s 7ms/step - loss: 1.3598 - accuracy: 0.5182 - val_loss: 1.5096 - val_accuracy: 0.4714\n",
      "Epoch 11/100\n",
      "1407/1407 [==============================] - 10s 7ms/step - loss: 1.3340 - accuracy: 0.5262 - val_loss: 1.4577 - val_accuracy: 0.4804\n",
      "Epoch 12/100\n",
      "1407/1407 [==============================] - 10s 7ms/step - loss: 1.3006 - accuracy: 0.5406 - val_loss: 1.7787 - val_accuracy: 0.4048\n",
      "Epoch 13/100\n",
      "1407/1407 [==============================] - 10s 7ms/step - loss: 1.2761 - accuracy: 0.5479 - val_loss: 1.5422 - val_accuracy: 0.4678\n",
      "Epoch 14/100\n",
      "1407/1407 [==============================] - 10s 7ms/step - loss: 1.2552 - accuracy: 0.5536 - val_loss: 1.4678 - val_accuracy: 0.4904\n",
      "Epoch 15/100\n",
      "1407/1407 [==============================] - 11s 7ms/step - loss: 1.2303 - accuracy: 0.5645 - val_loss: 1.4576 - val_accuracy: 0.4990\n",
      "Epoch 16/100\n",
      "1407/1407 [==============================] - 11s 7ms/step - loss: 1.2120 - accuracy: 0.5724 - val_loss: 1.9537 - val_accuracy: 0.3916\n",
      "Epoch 17/100\n",
      "1407/1407 [==============================] - 11s 8ms/step - loss: 1.1928 - accuracy: 0.5784 - val_loss: 1.4862 - val_accuracy: 0.4948\n",
      "Epoch 18/100\n",
      "1407/1407 [==============================] - 11s 8ms/step - loss: 1.1730 - accuracy: 0.5856 - val_loss: 1.5500 - val_accuracy: 0.4704\n",
      "Epoch 19/100\n",
      "1407/1407 [==============================] - 11s 8ms/step - loss: 1.1532 - accuracy: 0.5923 - val_loss: 1.5652 - val_accuracy: 0.4686\n",
      "Epoch 20/100\n",
      "1407/1407 [==============================] - 11s 8ms/step - loss: 1.1372 - accuracy: 0.5994 - val_loss: 1.4525 - val_accuracy: 0.4998\n",
      "Epoch 21/100\n",
      "1407/1407 [==============================] - 11s 8ms/step - loss: 1.1223 - accuracy: 0.6042 - val_loss: 1.4890 - val_accuracy: 0.4952\n",
      "Epoch 22/100\n",
      "1407/1407 [==============================] - 11s 8ms/step - loss: 1.1018 - accuracy: 0.6075 - val_loss: 1.5891 - val_accuracy: 0.4642\n",
      "Epoch 23/100\n",
      "1407/1407 [==============================] - 11s 7ms/step - loss: 1.0882 - accuracy: 0.6157 - val_loss: 1.5271 - val_accuracy: 0.4880\n",
      "Epoch 24/100\n",
      "1407/1407 [==============================] - 10s 7ms/step - loss: 1.0719 - accuracy: 0.6228 - val_loss: 1.4444 - val_accuracy: 0.5136\n",
      "Epoch 25/100\n",
      "1407/1407 [==============================] - 10s 7ms/step - loss: 1.0620 - accuracy: 0.6204 - val_loss: 1.5428 - val_accuracy: 0.4860\n",
      "Epoch 26/100\n",
      "1407/1407 [==============================] - 10s 7ms/step - loss: 1.0473 - accuracy: 0.6290 - val_loss: 1.4352 - val_accuracy: 0.5144\n",
      "Epoch 27/100\n",
      "1407/1407 [==============================] - 11s 7ms/step - loss: 1.0338 - accuracy: 0.6354 - val_loss: 1.6203 - val_accuracy: 0.4666\n",
      "Epoch 28/100\n",
      "1407/1407 [==============================] - 11s 8ms/step - loss: 1.0306 - accuracy: 0.6380 - val_loss: 1.8874 - val_accuracy: 0.4310\n",
      "Epoch 29/100\n",
      "1407/1407 [==============================] - 11s 8ms/step - loss: 1.0107 - accuracy: 0.6437 - val_loss: 1.4828 - val_accuracy: 0.5022\n",
      "Epoch 30/100\n",
      "1407/1407 [==============================] - 11s 8ms/step - loss: 0.9959 - accuracy: 0.6468 - val_loss: 1.5041 - val_accuracy: 0.4970\n",
      "Epoch 31/100\n",
      "1407/1407 [==============================] - 11s 8ms/step - loss: 0.9832 - accuracy: 0.6547 - val_loss: 1.5549 - val_accuracy: 0.4946\n",
      "Epoch 32/100\n",
      "1407/1407 [==============================] - 11s 8ms/step - loss: 0.9752 - accuracy: 0.6551 - val_loss: 1.6612 - val_accuracy: 0.4560\n",
      "Epoch 33/100\n",
      "1407/1407 [==============================] - 11s 8ms/step - loss: 0.9597 - accuracy: 0.6588 - val_loss: 1.4590 - val_accuracy: 0.5244\n",
      "Epoch 34/100\n",
      "1407/1407 [==============================] - 11s 8ms/step - loss: 0.9533 - accuracy: 0.6635 - val_loss: 1.7249 - val_accuracy: 0.4674\n",
      "Epoch 35/100\n",
      "1407/1407 [==============================] - 11s 8ms/step - loss: 0.9484 - accuracy: 0.6637 - val_loss: 1.4789 - val_accuracy: 0.5058\n",
      "Epoch 36/100\n",
      "1407/1407 [==============================] - 11s 8ms/step - loss: 0.9352 - accuracy: 0.6697 - val_loss: 1.6451 - val_accuracy: 0.4918\n",
      "Epoch 37/100\n",
      "1407/1407 [==============================] - 11s 8ms/step - loss: 0.9225 - accuracy: 0.6759 - val_loss: 1.4653 - val_accuracy: 0.5272\n",
      "Epoch 38/100\n",
      "1407/1407 [==============================] - 11s 8ms/step - loss: 0.9163 - accuracy: 0.6776 - val_loss: 1.5020 - val_accuracy: 0.5134\n",
      "Epoch 39/100\n",
      "1407/1407 [==============================] - 11s 8ms/step - loss: 0.8978 - accuracy: 0.6821 - val_loss: 1.5484 - val_accuracy: 0.4960\n",
      "Epoch 40/100\n",
      "1407/1407 [==============================] - 11s 8ms/step - loss: 0.8913 - accuracy: 0.6846 - val_loss: 1.7332 - val_accuracy: 0.4514\n",
      "Epoch 41/100\n",
      "1407/1407 [==============================] - 11s 8ms/step - loss: 0.8925 - accuracy: 0.6868 - val_loss: 1.5001 - val_accuracy: 0.5148\n",
      "Epoch 42/100\n",
      "1407/1407 [==============================] - 11s 8ms/step - loss: 0.8762 - accuracy: 0.6910 - val_loss: 1.6076 - val_accuracy: 0.4924\n",
      "Epoch 43/100\n",
      "1407/1407 [==============================] - 11s 8ms/step - loss: 0.8737 - accuracy: 0.6899 - val_loss: 1.5988 - val_accuracy: 0.4880\n",
      "Epoch 44/100\n",
      "1407/1407 [==============================] - 11s 8ms/step - loss: 0.8617 - accuracy: 0.6944 - val_loss: 1.7020 - val_accuracy: 0.4722\n",
      "Epoch 45/100\n",
      "1407/1407 [==============================] - 12s 8ms/step - loss: 0.8568 - accuracy: 0.6972 - val_loss: 1.6592 - val_accuracy: 0.4894\n",
      "Epoch 46/100\n",
      "1407/1407 [==============================] - 11s 8ms/step - loss: 0.8503 - accuracy: 0.6989 - val_loss: 1.6881 - val_accuracy: 0.4796\n"
     ]
    },
    {
     "data": {
      "text/plain": [
       "<keras.src.callbacks.History at 0x16b12bf40>"
      ]
     },
     "execution_count": 14,
     "metadata": {},
     "output_type": "execute_result"
    }
   ],
   "source": [
    "model.fit(X_train, y_train, epochs=100,\n",
    "          validation_data=(X_valid, y_valid),\n",
    "          callbacks=callbacks)"
   ]
  },
  {
   "cell_type": "code",
   "execution_count": 15,
   "id": "57b5714f-e4c9-4f96-a53b-3af36198062b",
   "metadata": {},
   "outputs": [
    {
     "name": "stdout",
     "output_type": "stream",
     "text": [
      "157/157 [==============================] - 0s 2ms/step - loss: 1.4352 - accuracy: 0.5144\n"
     ]
    },
    {
     "data": {
      "text/plain": [
       "[1.4351547956466675, 0.5144000053405762]"
      ]
     },
     "execution_count": 15,
     "metadata": {},
     "output_type": "execute_result"
    }
   ],
   "source": [
    "model.evaluate(X_valid, y_valid)"
   ]
  },
  {
   "cell_type": "code",
   "execution_count": null,
   "id": "2e70fe90-8c70-45ef-a16b-25b92aa29dba",
   "metadata": {},
   "outputs": [],
   "source": []
  }
 ],
 "metadata": {
  "kernelspec": {
   "display_name": "Python 3 (ipykernel)",
   "language": "python",
   "name": "python3"
  },
  "language_info": {
   "codemirror_mode": {
    "name": "ipython",
    "version": 3
   },
   "file_extension": ".py",
   "mimetype": "text/x-python",
   "name": "python",
   "nbconvert_exporter": "python",
   "pygments_lexer": "ipython3",
   "version": "3.10.16"
  }
 },
 "nbformat": 4,
 "nbformat_minor": 5
}
