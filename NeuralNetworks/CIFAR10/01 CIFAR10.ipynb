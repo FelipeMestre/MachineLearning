{
 "cells": [
  {
   "cell_type": "code",
   "execution_count": 2,
   "id": "b4a20568-da54-4379-b7b4-180205b8ae9e",
   "metadata": {},
   "outputs": [],
   "source": [
    "import sys\n",
    "\n",
    "assert sys.version_info >= (3, 7)"
   ]
  },
  {
   "cell_type": "code",
   "execution_count": 3,
   "id": "0fe380be-ea86-4381-ab65-a3a9d44b11cb",
   "metadata": {},
   "outputs": [],
   "source": [
    "from packaging import version\n",
    "import tensorflow as tf\n",
    "\n",
    "assert version.parse(tf.__version__) >= version.parse(\"2.8.0\")"
   ]
  },
  {
   "cell_type": "code",
   "execution_count": 4,
   "id": "86ca73ae-99fc-49f8-a4f9-89be7d89964a",
   "metadata": {},
   "outputs": [],
   "source": [
    "from pathlib import Path"
   ]
  },
  {
   "cell_type": "code",
   "execution_count": 5,
   "id": "e0f3142d-7b9f-4b3c-afd3-3948ecbd284c",
   "metadata": {},
   "outputs": [],
   "source": [
    "# define the default font sizes to make the figures prettier:"
   ]
  },
  {
   "cell_type": "code",
   "execution_count": 6,
   "id": "5186fa33-5ae4-4532-9884-78c88853e948",
   "metadata": {},
   "outputs": [],
   "source": [
    "tf.random.set_seed(42)\n",
    "\n",
    "model = tf.keras.Sequential()\n",
    "model.add(tf.keras.layers.Flatten(input_shape=[32, 32, 3]))\n",
    "for _ in range(20):\n",
    "    model.add(tf.keras.layers.Dense(100,\n",
    "                                    activation=\"swish\",\n",
    "                                    kernel_initializer=\"he_normal\"))\n",
    "\n",
    "model.add(tf.keras.layers.Dense(10, activation=\"softmax\"))"
   ]
  },
  {
   "cell_type": "code",
   "execution_count": 7,
   "id": "c0bee388-328f-40c1-9f14-2d7ca39b6b46",
   "metadata": {},
   "outputs": [],
   "source": [
    "dataset = tf.keras.datasets.cifar10.load_data()"
   ]
  },
  {
   "cell_type": "code",
   "execution_count": 8,
   "id": "cbd8ea90-383c-4a01-838d-da0d543e5d39",
   "metadata": {},
   "outputs": [],
   "source": [
    "optimizer = tf.keras.optimizers.legacy.Nadam(learning_rate=5e-5) #Legacy cause made on a m2\n",
    "model.compile(loss=\"sparse_categorical_crossentropy\",\n",
    "              optimizer=optimizer,\n",
    "              metrics=[\"accuracy\"])"
   ]
  },
  {
   "cell_type": "code",
   "execution_count": 9,
   "id": "67b9e843-c45f-43ba-bf42-c6515cf9692b",
   "metadata": {},
   "outputs": [],
   "source": [
    "(X_train_full, y_train_full), (X_test, y_test) = dataset\n",
    "\n",
    "X_train = X_train_full[5000:]\n",
    "y_train = y_train_full[5000:]\n",
    "X_valid = X_train_full[:5000]\n",
    "y_valid = y_train_full[:5000]"
   ]
  },
  {
   "cell_type": "code",
   "execution_count": 10,
   "id": "cd18e4a9-614a-4fa5-abc7-670f6cbd2853",
   "metadata": {},
   "outputs": [],
   "source": [
    "early_stopping_cb = tf.keras.callbacks.EarlyStopping(patience=20,\n",
    "                                                     restore_best_weights=True)\n",
    "model_checkpoint_cb = tf.keras.callbacks.ModelCheckpoint(\"my_cifar10_model.h5\",\n",
    "                                                         save_best_only=True)\n",
    "run_index = 1 # increment every time you train the model\n",
    "run_logdir = Path() / \"my_cifar10_logs\" / f\"run_{run_index:03d}\"\n",
    "tensorboard_cb = tf.keras.callbacks.TensorBoard(run_logdir)\n",
    "callbacks = [early_stopping_cb, model_checkpoint_cb, tensorboard_cb]"
   ]
  },
  {
   "cell_type": "code",
   "execution_count": 11,
   "id": "a7b1b412-8b6a-422e-9822-a21fcad1b187",
   "metadata": {},
   "outputs": [
    {
     "data": {
      "text/html": [
       "\n",
       "      <iframe id=\"tensorboard-frame-58900e50cfbb6baa\" width=\"100%\" height=\"800\" frameborder=\"0\">\n",
       "      </iframe>\n",
       "      <script>\n",
       "        (function() {\n",
       "          const frame = document.getElementById(\"tensorboard-frame-58900e50cfbb6baa\");\n",
       "          const url = new URL(\"/\", window.location);\n",
       "          const port = 6006;\n",
       "          if (port) {\n",
       "            url.port = port;\n",
       "          }\n",
       "          frame.src = url;\n",
       "        })();\n",
       "      </script>\n",
       "    "
      ],
      "text/plain": [
       "<IPython.core.display.HTML object>"
      ]
     },
     "metadata": {},
     "output_type": "display_data"
    }
   ],
   "source": [
    "%load_ext tensorboard\n",
    "%tensorboard --logdir=./my_cifar10_logs"
   ]
  },
  {
   "cell_type": "code",
   "execution_count": 12,
   "id": "70c0d4a4-b1c5-408d-a7bc-19ecb8a1ba69",
   "metadata": {},
   "outputs": [
    {
     "name": "stdout",
     "output_type": "stream",
     "text": [
      "Epoch 1/100\n",
      "1407/1407 [==============================] - 8s 5ms/step - loss: 4.4978 - accuracy: 0.1753 - val_loss: 2.2195 - val_accuracy: 0.2096\n",
      "Epoch 2/100\n",
      "  34/1407 [..............................] - ETA: 6s - loss: 2.1371 - accuracy: 0.2243"
     ]
    },
    {
     "name": "stderr",
     "output_type": "stream",
     "text": [
      "/opt/anaconda3/envs/homl3/lib/python3.10/site-packages/keras/src/engine/training.py:3079: UserWarning: You are saving your model as an HDF5 file via `model.save()`. This file format is considered legacy. We recommend using instead the native Keras format, e.g. `model.save('my_model.keras')`.\n",
      "  saving_api.save_model(\n"
     ]
    },
    {
     "name": "stdout",
     "output_type": "stream",
     "text": [
      "1407/1407 [==============================] - 7s 5ms/step - loss: 2.0792 - accuracy: 0.2329 - val_loss: 2.1202 - val_accuracy: 0.2254\n",
      "Epoch 3/100\n",
      "1407/1407 [==============================] - 7s 5ms/step - loss: 1.9778 - accuracy: 0.2678 - val_loss: 1.9736 - val_accuracy: 0.2698\n",
      "Epoch 4/100\n",
      "1407/1407 [==============================] - 7s 5ms/step - loss: 1.9024 - accuracy: 0.3040 - val_loss: 1.9797 - val_accuracy: 0.2988\n",
      "Epoch 5/100\n",
      "1407/1407 [==============================] - 8s 6ms/step - loss: 1.8394 - accuracy: 0.3285 - val_loss: 1.8609 - val_accuracy: 0.3216\n",
      "Epoch 6/100\n",
      "1407/1407 [==============================] - 8s 6ms/step - loss: 1.7923 - accuracy: 0.3498 - val_loss: 1.8225 - val_accuracy: 0.3358\n",
      "Epoch 7/100\n",
      "1407/1407 [==============================] - 8s 5ms/step - loss: 1.7467 - accuracy: 0.3690 - val_loss: 1.7588 - val_accuracy: 0.3588\n",
      "Epoch 8/100\n",
      "1407/1407 [==============================] - 8s 5ms/step - loss: 1.7087 - accuracy: 0.3856 - val_loss: 1.6960 - val_accuracy: 0.3942\n",
      "Epoch 9/100\n",
      "1407/1407 [==============================] - 8s 6ms/step - loss: 1.6766 - accuracy: 0.3961 - val_loss: 1.6962 - val_accuracy: 0.3820\n",
      "Epoch 10/100\n",
      "1407/1407 [==============================] - 8s 6ms/step - loss: 1.6471 - accuracy: 0.4057 - val_loss: 1.6909 - val_accuracy: 0.3878\n",
      "Epoch 11/100\n",
      "1407/1407 [==============================] - 8s 6ms/step - loss: 1.6227 - accuracy: 0.4171 - val_loss: 1.6860 - val_accuracy: 0.3960\n",
      "Epoch 12/100\n",
      "1407/1407 [==============================] - 8s 6ms/step - loss: 1.5985 - accuracy: 0.4255 - val_loss: 1.6719 - val_accuracy: 0.3948\n",
      "Epoch 13/100\n",
      "1407/1407 [==============================] - 8s 6ms/step - loss: 1.5830 - accuracy: 0.4328 - val_loss: 1.6435 - val_accuracy: 0.4096\n",
      "Epoch 14/100\n",
      "1407/1407 [==============================] - 8s 6ms/step - loss: 1.5669 - accuracy: 0.4368 - val_loss: 1.6334 - val_accuracy: 0.4130\n",
      "Epoch 15/100\n",
      "1407/1407 [==============================] - 8s 6ms/step - loss: 1.5502 - accuracy: 0.4446 - val_loss: 1.5835 - val_accuracy: 0.4320\n",
      "Epoch 16/100\n",
      "1407/1407 [==============================] - 9s 6ms/step - loss: 1.5327 - accuracy: 0.4512 - val_loss: 1.5704 - val_accuracy: 0.4426\n",
      "Epoch 17/100\n",
      "1407/1407 [==============================] - 9s 6ms/step - loss: 1.5204 - accuracy: 0.4580 - val_loss: 1.5975 - val_accuracy: 0.4278\n",
      "Epoch 18/100\n",
      "1407/1407 [==============================] - 9s 6ms/step - loss: 1.5087 - accuracy: 0.4594 - val_loss: 1.5791 - val_accuracy: 0.4326\n",
      "Epoch 19/100\n",
      "1407/1407 [==============================] - 9s 6ms/step - loss: 1.4968 - accuracy: 0.4627 - val_loss: 1.5568 - val_accuracy: 0.4444\n",
      "Epoch 20/100\n",
      "1407/1407 [==============================] - 9s 6ms/step - loss: 1.4849 - accuracy: 0.4684 - val_loss: 1.5617 - val_accuracy: 0.4448\n",
      "Epoch 21/100\n",
      "1407/1407 [==============================] - 9s 6ms/step - loss: 1.4733 - accuracy: 0.4735 - val_loss: 1.5844 - val_accuracy: 0.4380\n",
      "Epoch 22/100\n",
      "1407/1407 [==============================] - 9s 7ms/step - loss: 1.4648 - accuracy: 0.4768 - val_loss: 1.5550 - val_accuracy: 0.4500\n",
      "Epoch 23/100\n",
      "1407/1407 [==============================] - 10s 7ms/step - loss: 1.4495 - accuracy: 0.4831 - val_loss: 1.5643 - val_accuracy: 0.4358\n",
      "Epoch 24/100\n",
      "1407/1407 [==============================] - 10s 7ms/step - loss: 1.4414 - accuracy: 0.4868 - val_loss: 1.5601 - val_accuracy: 0.4360\n",
      "Epoch 25/100\n",
      "1407/1407 [==============================] - 10s 7ms/step - loss: 1.4298 - accuracy: 0.4884 - val_loss: 1.5357 - val_accuracy: 0.4536\n",
      "Epoch 26/100\n",
      "1407/1407 [==============================] - 10s 7ms/step - loss: 1.4177 - accuracy: 0.4935 - val_loss: 1.5624 - val_accuracy: 0.4430\n",
      "Epoch 27/100\n",
      "1407/1407 [==============================] - 10s 7ms/step - loss: 1.4107 - accuracy: 0.4974 - val_loss: 1.5468 - val_accuracy: 0.4604\n",
      "Epoch 28/100\n",
      "1407/1407 [==============================] - 10s 7ms/step - loss: 1.4002 - accuracy: 0.5004 - val_loss: 1.5632 - val_accuracy: 0.4456\n",
      "Epoch 29/100\n",
      "1407/1407 [==============================] - 10s 7ms/step - loss: 1.3951 - accuracy: 0.5013 - val_loss: 1.5324 - val_accuracy: 0.4584\n",
      "Epoch 30/100\n",
      "1407/1407 [==============================] - 10s 7ms/step - loss: 1.3823 - accuracy: 0.5071 - val_loss: 1.5551 - val_accuracy: 0.4508\n",
      "Epoch 31/100\n",
      "1407/1407 [==============================] - 10s 7ms/step - loss: 1.3767 - accuracy: 0.5079 - val_loss: 1.5384 - val_accuracy: 0.4582\n",
      "Epoch 32/100\n",
      "1407/1407 [==============================] - 10s 7ms/step - loss: 1.3676 - accuracy: 0.5114 - val_loss: 1.5325 - val_accuracy: 0.4610\n",
      "Epoch 33/100\n",
      "1407/1407 [==============================] - 10s 7ms/step - loss: 1.3591 - accuracy: 0.5139 - val_loss: 1.5407 - val_accuracy: 0.4592\n",
      "Epoch 34/100\n",
      "1407/1407 [==============================] - 10s 7ms/step - loss: 1.3548 - accuracy: 0.5154 - val_loss: 1.5805 - val_accuracy: 0.4568\n",
      "Epoch 35/100\n",
      "1407/1407 [==============================] - 9s 7ms/step - loss: 1.3417 - accuracy: 0.5208 - val_loss: 1.5407 - val_accuracy: 0.4672\n",
      "Epoch 36/100\n",
      "1407/1407 [==============================] - 10s 7ms/step - loss: 1.3389 - accuracy: 0.5213 - val_loss: 1.5495 - val_accuracy: 0.4600\n",
      "Epoch 37/100\n",
      "1407/1407 [==============================] - 10s 7ms/step - loss: 1.3275 - accuracy: 0.5238 - val_loss: 1.5346 - val_accuracy: 0.4634\n",
      "Epoch 38/100\n",
      "1407/1407 [==============================] - 9s 7ms/step - loss: 1.3220 - accuracy: 0.5283 - val_loss: 1.5331 - val_accuracy: 0.4646\n",
      "Epoch 39/100\n",
      "1407/1407 [==============================] - 9s 7ms/step - loss: 1.3107 - accuracy: 0.5318 - val_loss: 1.5545 - val_accuracy: 0.4584\n",
      "Epoch 40/100\n",
      "1407/1407 [==============================] - 9s 7ms/step - loss: 1.3081 - accuracy: 0.5316 - val_loss: 1.5522 - val_accuracy: 0.4586\n",
      "Epoch 41/100\n",
      "1407/1407 [==============================] - 9s 7ms/step - loss: 1.2984 - accuracy: 0.5358 - val_loss: 1.5748 - val_accuracy: 0.4520\n",
      "Epoch 42/100\n",
      "1407/1407 [==============================] - 9s 7ms/step - loss: 1.2911 - accuracy: 0.5377 - val_loss: 1.5405 - val_accuracy: 0.4662\n",
      "Epoch 43/100\n",
      "1407/1407 [==============================] - 9s 7ms/step - loss: 1.2864 - accuracy: 0.5373 - val_loss: 1.5571 - val_accuracy: 0.4600\n",
      "Epoch 44/100\n",
      "1407/1407 [==============================] - 10s 7ms/step - loss: 1.2793 - accuracy: 0.5434 - val_loss: 1.5612 - val_accuracy: 0.4638\n",
      "Epoch 45/100\n",
      "1407/1407 [==============================] - 10s 7ms/step - loss: 1.2734 - accuracy: 0.5430 - val_loss: 1.5494 - val_accuracy: 0.4654\n",
      "Epoch 46/100\n",
      "1407/1407 [==============================] - 10s 7ms/step - loss: 1.2659 - accuracy: 0.5473 - val_loss: 1.5389 - val_accuracy: 0.4712\n",
      "Epoch 47/100\n",
      "1407/1407 [==============================] - 10s 7ms/step - loss: 1.2597 - accuracy: 0.5482 - val_loss: 1.5507 - val_accuracy: 0.4658\n",
      "Epoch 48/100\n",
      "1407/1407 [==============================] - 10s 7ms/step - loss: 1.2488 - accuracy: 0.5531 - val_loss: 1.5314 - val_accuracy: 0.4710\n",
      "Epoch 49/100\n",
      "1407/1407 [==============================] - 9s 7ms/step - loss: 1.2426 - accuracy: 0.5540 - val_loss: 1.5790 - val_accuracy: 0.4614\n",
      "Epoch 50/100\n",
      "1407/1407 [==============================] - 10s 7ms/step - loss: 1.2398 - accuracy: 0.5560 - val_loss: 1.5836 - val_accuracy: 0.4630\n",
      "Epoch 51/100\n",
      "1407/1407 [==============================] - 10s 7ms/step - loss: 1.2295 - accuracy: 0.5598 - val_loss: 1.5827 - val_accuracy: 0.4630\n",
      "Epoch 52/100\n",
      "1407/1407 [==============================] - 10s 7ms/step - loss: 1.2249 - accuracy: 0.5605 - val_loss: 1.5600 - val_accuracy: 0.4710\n",
      "Epoch 53/100\n",
      "1407/1407 [==============================] - 10s 7ms/step - loss: 1.2147 - accuracy: 0.5637 - val_loss: 1.5421 - val_accuracy: 0.4722\n",
      "Epoch 54/100\n",
      "1407/1407 [==============================] - 9s 7ms/step - loss: 1.2081 - accuracy: 0.5671 - val_loss: 1.6229 - val_accuracy: 0.4514\n",
      "Epoch 55/100\n",
      "1407/1407 [==============================] - 9s 6ms/step - loss: 1.2060 - accuracy: 0.5689 - val_loss: 1.5568 - val_accuracy: 0.4700\n",
      "Epoch 56/100\n",
      "1407/1407 [==============================] - 9s 7ms/step - loss: 1.1984 - accuracy: 0.5705 - val_loss: 1.5716 - val_accuracy: 0.4716\n",
      "Epoch 57/100\n",
      "1407/1407 [==============================] - 9s 7ms/step - loss: 1.1902 - accuracy: 0.5723 - val_loss: 1.5686 - val_accuracy: 0.4734\n",
      "Epoch 58/100\n",
      "1407/1407 [==============================] - 10s 7ms/step - loss: 1.1869 - accuracy: 0.5771 - val_loss: 1.5767 - val_accuracy: 0.4712\n",
      "Epoch 59/100\n",
      "1407/1407 [==============================] - 9s 6ms/step - loss: 1.1794 - accuracy: 0.5774 - val_loss: 1.5702 - val_accuracy: 0.4726\n",
      "Epoch 60/100\n",
      "1407/1407 [==============================] - 9s 6ms/step - loss: 1.1719 - accuracy: 0.5804 - val_loss: 1.5720 - val_accuracy: 0.4696\n",
      "Epoch 61/100\n",
      "1407/1407 [==============================] - 9s 7ms/step - loss: 1.1672 - accuracy: 0.5814 - val_loss: 1.5765 - val_accuracy: 0.4694\n",
      "Epoch 62/100\n",
      "1407/1407 [==============================] - 9s 7ms/step - loss: 1.1630 - accuracy: 0.5841 - val_loss: 1.6092 - val_accuracy: 0.4658\n",
      "Epoch 63/100\n",
      "1407/1407 [==============================] - 9s 7ms/step - loss: 1.1541 - accuracy: 0.5860 - val_loss: 1.5799 - val_accuracy: 0.4682\n",
      "Epoch 64/100\n",
      "1407/1407 [==============================] - 9s 7ms/step - loss: 1.1541 - accuracy: 0.5885 - val_loss: 1.6223 - val_accuracy: 0.4706\n",
      "Epoch 65/100\n",
      "1407/1407 [==============================] - 9s 6ms/step - loss: 1.1453 - accuracy: 0.5919 - val_loss: 1.5856 - val_accuracy: 0.4736\n",
      "Epoch 66/100\n",
      "1407/1407 [==============================] - 9s 7ms/step - loss: 1.1350 - accuracy: 0.5945 - val_loss: 1.6110 - val_accuracy: 0.4658\n",
      "Epoch 67/100\n",
      "1407/1407 [==============================] - 9s 6ms/step - loss: 1.1327 - accuracy: 0.5952 - val_loss: 1.6680 - val_accuracy: 0.4556\n",
      "Epoch 68/100\n",
      "1407/1407 [==============================] - 9s 6ms/step - loss: 1.1258 - accuracy: 0.5974 - val_loss: 1.6129 - val_accuracy: 0.4664\n"
     ]
    },
    {
     "data": {
      "text/plain": [
       "<keras.src.callbacks.History at 0x167443b80>"
      ]
     },
     "execution_count": 12,
     "metadata": {},
     "output_type": "execute_result"
    }
   ],
   "source": [
    "model.fit(X_train, y_train, epochs=100,\n",
    "          validation_data=(X_valid, y_valid),\n",
    "          callbacks=callbacks)"
   ]
  },
  {
   "cell_type": "code",
   "execution_count": 13,
   "id": "57b5714f-e4c9-4f96-a53b-3af36198062b",
   "metadata": {},
   "outputs": [
    {
     "name": "stdout",
     "output_type": "stream",
     "text": [
      "157/157 [==============================] - 0s 1ms/step - loss: 1.5314 - accuracy: 0.4710\n"
     ]
    },
    {
     "data": {
      "text/plain": [
       "[1.531402349472046, 0.47099998593330383]"
      ]
     },
     "execution_count": 13,
     "metadata": {},
     "output_type": "execute_result"
    }
   ],
   "source": [
    "model.evaluate(X_valid, y_valid)"
   ]
  },
  {
   "cell_type": "code",
   "execution_count": null,
   "id": "f0eb7080-7cc1-48ff-8d66-30807f6e8e0b",
   "metadata": {},
   "outputs": [],
   "source": []
  }
 ],
 "metadata": {
  "kernelspec": {
   "display_name": "Python 3 (ipykernel)",
   "language": "python",
   "name": "python3"
  },
  "language_info": {
   "codemirror_mode": {
    "name": "ipython",
    "version": 3
   },
   "file_extension": ".py",
   "mimetype": "text/x-python",
   "name": "python",
   "nbconvert_exporter": "python",
   "pygments_lexer": "ipython3",
   "version": "3.10.16"
  }
 },
 "nbformat": 4,
 "nbformat_minor": 5
}
