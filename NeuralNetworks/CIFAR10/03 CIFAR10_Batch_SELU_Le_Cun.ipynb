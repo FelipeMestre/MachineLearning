{
 "cells": [
  {
   "cell_type": "code",
   "execution_count": 15,
   "id": "b4a20568-da54-4379-b7b4-180205b8ae9e",
   "metadata": {},
   "outputs": [],
   "source": [
    "import sys\n",
    "\n",
    "assert sys.version_info >= (3, 7)"
   ]
  },
  {
   "cell_type": "code",
   "execution_count": 16,
   "id": "0fe380be-ea86-4381-ab65-a3a9d44b11cb",
   "metadata": {},
   "outputs": [],
   "source": [
    "from packaging import version\n",
    "import tensorflow as tf\n",
    "\n",
    "assert version.parse(tf.__version__) >= version.parse(\"2.8.0\")"
   ]
  },
  {
   "cell_type": "code",
   "execution_count": 17,
   "id": "86ca73ae-99fc-49f8-a4f9-89be7d89964a",
   "metadata": {},
   "outputs": [],
   "source": [
    "from pathlib import Path"
   ]
  },
  {
   "cell_type": "code",
   "execution_count": 18,
   "id": "e0f3142d-7b9f-4b3c-afd3-3948ecbd284c",
   "metadata": {},
   "outputs": [],
   "source": [
    "# define the default font sizes to make the figures prettier:"
   ]
  },
  {
   "cell_type": "code",
   "execution_count": 19,
   "id": "5186fa33-5ae4-4532-9884-78c88853e948",
   "metadata": {},
   "outputs": [],
   "source": [
    "tf.random.set_seed(42)\n",
    "\n",
    "model = tf.keras.Sequential()\n",
    "model.add(tf.keras.layers.Flatten(input_shape=[32, 32, 3]))\n",
    "for _ in range(20):\n",
    "    model.add(tf.keras.layers.Dense(100, kernel_initializer=\"lecun_normal\",\n",
    "                                    activation=\"selu\"))\n",
    "\n",
    "model.add(tf.keras.layers.Dense(10, activation=\"softmax\"))"
   ]
  },
  {
   "cell_type": "code",
   "execution_count": 20,
   "id": "c0bee388-328f-40c1-9f14-2d7ca39b6b46",
   "metadata": {},
   "outputs": [],
   "source": [
    "dataset = tf.keras.datasets.cifar10.load_data()"
   ]
  },
  {
   "cell_type": "code",
   "execution_count": 21,
   "id": "cbd8ea90-383c-4a01-838d-da0d543e5d39",
   "metadata": {},
   "outputs": [],
   "source": [
    "optimizer = tf.keras.optimizers.legacy.Nadam(learning_rate=7e-4) #Legacy cause made on a m2\n",
    "model.compile(loss=\"sparse_categorical_crossentropy\",\n",
    "              optimizer=optimizer,\n",
    "              metrics=[\"accuracy\"])"
   ]
  },
  {
   "cell_type": "code",
   "execution_count": 22,
   "id": "67b9e843-c45f-43ba-bf42-c6515cf9692b",
   "metadata": {},
   "outputs": [],
   "source": [
    "(X_train_full, y_train_full), (X_test, y_test) = dataset\n",
    "\n",
    "X_train = X_train_full[5000:]\n",
    "y_train = y_train_full[5000:]\n",
    "X_valid = X_train_full[:5000]\n",
    "y_valid = y_train_full[:5000]"
   ]
  },
  {
   "cell_type": "code",
   "execution_count": 23,
   "id": "e0705212-4a76-427c-99c9-c50ad6116eee",
   "metadata": {},
   "outputs": [],
   "source": [
    "X_means = X_train.mean(axis=0)\n",
    "X_stds = X_train.std(axis=0)\n",
    "X_train_scaled = (X_train - X_means) / X_stds\n",
    "X_valid_scaled = (X_valid - X_means) / X_stds\n",
    "X_test_scaled = (X_test - X_means) / X_stds"
   ]
  },
  {
   "cell_type": "code",
   "execution_count": 24,
   "id": "cd18e4a9-614a-4fa5-abc7-670f6cbd2853",
   "metadata": {},
   "outputs": [],
   "source": [
    "early_stopping_cb = tf.keras.callbacks.EarlyStopping(patience=20,\n",
    "                                                     restore_best_weights=True)\n",
    "model_checkpoint_cb = tf.keras.callbacks.ModelCheckpoint(\"my_cifar10_SELU_le_Cun_model.h5\",\n",
    "                                                         save_best_only=True)\n",
    "run_index = 1 # increment every time you train the model\n",
    "run_logdir = Path() / \"my_cifar10_logs\" / f\"run_{run_index:03d}\"\n",
    "tensorboard_cb = tf.keras.callbacks.TensorBoard(run_logdir)\n",
    "callbacks = [early_stopping_cb, model_checkpoint_cb, tensorboard_cb]"
   ]
  },
  {
   "cell_type": "code",
   "execution_count": 25,
   "id": "a7b1b412-8b6a-422e-9822-a21fcad1b187",
   "metadata": {},
   "outputs": [
    {
     "name": "stdout",
     "output_type": "stream",
     "text": [
      "The tensorboard extension is already loaded. To reload it, use:\n",
      "  %reload_ext tensorboard\n"
     ]
    },
    {
     "data": {
      "text/plain": [
       "Reusing TensorBoard on port 6006 (pid 10642), started 0:50:24 ago. (Use '!kill 10642' to kill it.)"
      ]
     },
     "metadata": {},
     "output_type": "display_data"
    },
    {
     "data": {
      "text/html": [
       "\n",
       "      <iframe id=\"tensorboard-frame-b62ccb3269fc470d\" width=\"100%\" height=\"800\" frameborder=\"0\">\n",
       "      </iframe>\n",
       "      <script>\n",
       "        (function() {\n",
       "          const frame = document.getElementById(\"tensorboard-frame-b62ccb3269fc470d\");\n",
       "          const url = new URL(\"/\", window.location);\n",
       "          const port = 6006;\n",
       "          if (port) {\n",
       "            url.port = port;\n",
       "          }\n",
       "          frame.src = url;\n",
       "        })();\n",
       "      </script>\n",
       "    "
      ],
      "text/plain": [
       "<IPython.core.display.HTML object>"
      ]
     },
     "metadata": {},
     "output_type": "display_data"
    }
   ],
   "source": [
    "%load_ext tensorboard\n",
    "%tensorboard --logdir=./my_cifar10_logs"
   ]
  },
  {
   "cell_type": "code",
   "execution_count": 26,
   "id": "70c0d4a4-b1c5-408d-a7bc-19ecb8a1ba69",
   "metadata": {},
   "outputs": [
    {
     "name": "stdout",
     "output_type": "stream",
     "text": [
      "Epoch 1/100\n",
      "1407/1407 [==============================] - 9s 6ms/step - loss: 1.9345 - accuracy: 0.3052 - val_loss: 1.8802 - val_accuracy: 0.3170\n",
      "Epoch 2/100\n",
      "1407/1407 [==============================] - 8s 5ms/step - loss: 1.7112 - accuracy: 0.3906 - val_loss: 1.7583 - val_accuracy: 0.3590\n",
      "Epoch 3/100\n",
      "1407/1407 [==============================] - 8s 5ms/step - loss: 1.6095 - accuracy: 0.4337 - val_loss: 1.6207 - val_accuracy: 0.4202\n",
      "Epoch 4/100\n",
      "1407/1407 [==============================] - 8s 5ms/step - loss: 1.5396 - accuracy: 0.4548 - val_loss: 1.6050 - val_accuracy: 0.4410\n",
      "Epoch 5/100\n",
      "1407/1407 [==============================] - 8s 5ms/step - loss: 1.4788 - accuracy: 0.4792 - val_loss: 1.6405 - val_accuracy: 0.4290\n",
      "Epoch 6/100\n",
      "1407/1407 [==============================] - 8s 5ms/step - loss: 1.4347 - accuracy: 0.4968 - val_loss: 1.5203 - val_accuracy: 0.4488\n",
      "Epoch 7/100\n",
      "1407/1407 [==============================] - 8s 6ms/step - loss: 1.3857 - accuracy: 0.5163 - val_loss: 1.5402 - val_accuracy: 0.4762\n",
      "Epoch 8/100\n",
      "1407/1407 [==============================] - 8s 6ms/step - loss: 1.3502 - accuracy: 0.5279 - val_loss: 1.4838 - val_accuracy: 0.4762\n",
      "Epoch 9/100\n",
      "1407/1407 [==============================] - 8s 6ms/step - loss: 1.3126 - accuracy: 0.5416 - val_loss: 1.4884 - val_accuracy: 0.4738\n",
      "Epoch 10/100\n",
      "1407/1407 [==============================] - 8s 6ms/step - loss: 1.2810 - accuracy: 0.5540 - val_loss: 1.5076 - val_accuracy: 0.4880\n",
      "Epoch 11/100\n",
      "1407/1407 [==============================] - 8s 6ms/step - loss: 1.2541 - accuracy: 0.5631 - val_loss: 1.5019 - val_accuracy: 0.4928\n",
      "Epoch 12/100\n",
      "1407/1407 [==============================] - 8s 6ms/step - loss: 1.2258 - accuracy: 0.5731 - val_loss: 1.4723 - val_accuracy: 0.4912\n",
      "Epoch 13/100\n",
      "1407/1407 [==============================] - 8s 6ms/step - loss: 1.2021 - accuracy: 0.5833 - val_loss: 1.4715 - val_accuracy: 0.4982\n",
      "Epoch 14/100\n",
      "1407/1407 [==============================] - 8s 6ms/step - loss: 1.1801 - accuracy: 0.5874 - val_loss: 1.4893 - val_accuracy: 0.5076\n",
      "Epoch 15/100\n",
      "1407/1407 [==============================] - 8s 6ms/step - loss: 1.1487 - accuracy: 0.6003 - val_loss: 1.5447 - val_accuracy: 0.4922\n",
      "Epoch 16/100\n",
      "1407/1407 [==============================] - 8s 6ms/step - loss: 1.1272 - accuracy: 0.6112 - val_loss: 1.5177 - val_accuracy: 0.5126\n",
      "Epoch 17/100\n",
      "1407/1407 [==============================] - 8s 5ms/step - loss: 1.1116 - accuracy: 0.6172 - val_loss: 1.5380 - val_accuracy: 0.5032\n",
      "Epoch 18/100\n",
      "1407/1407 [==============================] - 8s 5ms/step - loss: 1.0839 - accuracy: 0.6269 - val_loss: 1.5256 - val_accuracy: 0.5066\n",
      "Epoch 19/100\n",
      "1407/1407 [==============================] - 8s 5ms/step - loss: 1.0656 - accuracy: 0.6345 - val_loss: 1.5536 - val_accuracy: 0.5044\n",
      "Epoch 20/100\n",
      "1407/1407 [==============================] - 8s 5ms/step - loss: 1.0412 - accuracy: 0.6439 - val_loss: 1.5234 - val_accuracy: 0.5086\n",
      "Epoch 21/100\n",
      "1407/1407 [==============================] - 8s 5ms/step - loss: 1.0306 - accuracy: 0.6464 - val_loss: 1.5835 - val_accuracy: 0.5004\n",
      "Epoch 22/100\n",
      "1407/1407 [==============================] - 8s 5ms/step - loss: 1.0110 - accuracy: 0.6545 - val_loss: 1.5626 - val_accuracy: 0.5120\n",
      "Epoch 23/100\n",
      "1407/1407 [==============================] - 8s 5ms/step - loss: 0.9860 - accuracy: 0.6618 - val_loss: 56.8497 - val_accuracy: 0.4878\n",
      "Epoch 24/100\n",
      "1407/1407 [==============================] - 8s 5ms/step - loss: 30.6652 - accuracy: 0.5853 - val_loss: 1.5537 - val_accuracy: 0.4796\n",
      "Epoch 25/100\n",
      "1407/1407 [==============================] - 8s 5ms/step - loss: 1.1498 - accuracy: 0.6058 - val_loss: 1.5778 - val_accuracy: 0.4640\n",
      "Epoch 26/100\n",
      "1407/1407 [==============================] - 8s 5ms/step - loss: 1.1396 - accuracy: 0.5994 - val_loss: 1.5250 - val_accuracy: 0.4882\n",
      "Epoch 27/100\n",
      "1407/1407 [==============================] - 8s 5ms/step - loss: 1.0748 - accuracy: 0.6254 - val_loss: 1.5227 - val_accuracy: 0.4948\n",
      "Epoch 28/100\n",
      "1407/1407 [==============================] - 8s 6ms/step - loss: 1.0291 - accuracy: 0.6419 - val_loss: 1.5378 - val_accuracy: 0.4990\n",
      "Epoch 29/100\n",
      "1407/1407 [==============================] - 8s 5ms/step - loss: 0.9913 - accuracy: 0.6560 - val_loss: 1.5751 - val_accuracy: 0.4964\n",
      "Epoch 30/100\n",
      "1407/1407 [==============================] - 8s 5ms/step - loss: 0.9643 - accuracy: 0.6660 - val_loss: 1.5835 - val_accuracy: 0.5020\n",
      "Epoch 31/100\n",
      "1407/1407 [==============================] - 7s 5ms/step - loss: 0.9418 - accuracy: 0.6765 - val_loss: 1.5484 - val_accuracy: 0.4986\n",
      "Epoch 32/100\n",
      "1407/1407 [==============================] - 8s 6ms/step - loss: 0.9255 - accuracy: 0.6838 - val_loss: 1.6125 - val_accuracy: 0.5020\n",
      "Epoch 33/100\n",
      "1407/1407 [==============================] - 8s 5ms/step - loss: 0.9095 - accuracy: 0.6867 - val_loss: 1.5745 - val_accuracy: 0.5080\n"
     ]
    },
    {
     "data": {
      "text/plain": [
       "<keras.src.callbacks.History at 0x17f66a080>"
      ]
     },
     "execution_count": 26,
     "metadata": {},
     "output_type": "execute_result"
    }
   ],
   "source": [
    "model.fit(X_train_scaled, y_train, epochs=100,\n",
    "          validation_data=(X_valid_scaled, y_valid),\n",
    "          callbacks=callbacks)"
   ]
  },
  {
   "cell_type": "code",
   "execution_count": 28,
   "id": "2e70fe90-8c70-45ef-a16b-25b92aa29dba",
   "metadata": {},
   "outputs": [],
   "source": [
    "#Lets apply dropout to see if it regularizes better !"
   ]
  },
  {
   "cell_type": "code",
   "execution_count": null,
   "id": "23eeb4b3-6261-4509-b66d-834d8f833d21",
   "metadata": {},
   "outputs": [],
   "source": []
  }
 ],
 "metadata": {
  "kernelspec": {
   "display_name": "Python 3 (ipykernel)",
   "language": "python",
   "name": "python3"
  },
  "language_info": {
   "codemirror_mode": {
    "name": "ipython",
    "version": 3
   },
   "file_extension": ".py",
   "mimetype": "text/x-python",
   "name": "python",
   "nbconvert_exporter": "python",
   "pygments_lexer": "ipython3",
   "version": "3.10.16"
  }
 },
 "nbformat": 4,
 "nbformat_minor": 5
}
