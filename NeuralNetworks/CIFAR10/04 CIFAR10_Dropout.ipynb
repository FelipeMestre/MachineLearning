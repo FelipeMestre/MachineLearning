{
 "cells": [
  {
   "cell_type": "code",
   "execution_count": 6,
   "id": "b4a20568-da54-4379-b7b4-180205b8ae9e",
   "metadata": {},
   "outputs": [],
   "source": [
    "import sys\n",
    "import keras.layers\n",
    "\n",
    "assert sys.version_info >= (3, 7)"
   ]
  },
  {
   "cell_type": "code",
   "execution_count": 7,
   "id": "0fe380be-ea86-4381-ab65-a3a9d44b11cb",
   "metadata": {},
   "outputs": [],
   "source": [
    "from packaging import version\n",
    "import tensorflow as tf\n",
    "\n",
    "assert version.parse(tf.__version__) >= version.parse(\"2.8.0\")"
   ]
  },
  {
   "cell_type": "code",
   "execution_count": 8,
   "id": "86ca73ae-99fc-49f8-a4f9-89be7d89964a",
   "metadata": {},
   "outputs": [],
   "source": [
    "from pathlib import Path"
   ]
  },
  {
   "cell_type": "code",
   "execution_count": 9,
   "id": "e0f3142d-7b9f-4b3c-afd3-3948ecbd284c",
   "metadata": {},
   "outputs": [],
   "source": [
    "# define the default font sizes to make the figures prettier:"
   ]
  },
  {
   "cell_type": "code",
   "execution_count": 10,
   "id": "5186fa33-5ae4-4532-9884-78c88853e948",
   "metadata": {},
   "outputs": [],
   "source": [
    "tf.random.set_seed(42)\n",
    "\n",
    "model = tf.keras.Sequential()\n",
    "model.add(tf.keras.layers.Flatten(input_shape=[32, 32, 3]))\n",
    "for _ in range(20):\n",
    "    model.add(tf.keras.layers.Dense(100, kernel_initializer=\"lecun_normal\",\n",
    "                                    activation=\"selu\"))\n",
    "\n",
    "model.add(keras.layers.AlphaDropout(rate=0.1))\n",
    "model.add(tf.keras.layers.Dense(10, activation=\"softmax\"))"
   ]
  },
  {
   "cell_type": "code",
   "execution_count": 11,
   "id": "c0bee388-328f-40c1-9f14-2d7ca39b6b46",
   "metadata": {},
   "outputs": [],
   "source": [
    "dataset = tf.keras.datasets.cifar10.load_data()"
   ]
  },
  {
   "cell_type": "code",
   "execution_count": 12,
   "id": "cbd8ea90-383c-4a01-838d-da0d543e5d39",
   "metadata": {},
   "outputs": [],
   "source": [
    "optimizer = tf.keras.optimizers.legacy.Nadam(learning_rate=7e-4) #Legacy cause made on a m2\n",
    "model.compile(loss=\"sparse_categorical_crossentropy\",\n",
    "              optimizer=optimizer,\n",
    "              metrics=[\"accuracy\"])"
   ]
  },
  {
   "cell_type": "code",
   "execution_count": 13,
   "id": "67b9e843-c45f-43ba-bf42-c6515cf9692b",
   "metadata": {},
   "outputs": [],
   "source": [
    "(X_train_full, y_train_full), (X_test, y_test) = dataset\n",
    "\n",
    "X_train = X_train_full[5000:]\n",
    "y_train = y_train_full[5000:]\n",
    "X_valid = X_train_full[:5000]\n",
    "y_valid = y_train_full[:5000]"
   ]
  },
  {
   "cell_type": "code",
   "execution_count": 14,
   "id": "e0705212-4a76-427c-99c9-c50ad6116eee",
   "metadata": {},
   "outputs": [],
   "source": [
    "X_means = X_train.mean(axis=0)\n",
    "X_stds = X_train.std(axis=0)\n",
    "X_train_scaled = (X_train - X_means) / X_stds\n",
    "X_valid_scaled = (X_valid - X_means) / X_stds\n",
    "X_test_scaled = (X_test - X_means) / X_stds"
   ]
  },
  {
   "cell_type": "code",
   "execution_count": 16,
   "id": "cd18e4a9-614a-4fa5-abc7-670f6cbd2853",
   "metadata": {},
   "outputs": [],
   "source": [
    "early_stopping_cb = tf.keras.callbacks.EarlyStopping(patience=20,\n",
    "                                                     restore_best_weights=True)\n",
    "model_checkpoint_cb = tf.keras.callbacks.ModelCheckpoint(\"my_cifar10_Dropout_model.h5\",\n",
    "                                                         save_best_only=True)\n",
    "run_index = 1 # increment every time you train the model\n",
    "run_logdir = Path() / \"my_cifar10_logs\" / f\"run__dropout{run_index:03d}\"\n",
    "tensorboard_cb = tf.keras.callbacks.TensorBoard(run_logdir)\n",
    "callbacks = [early_stopping_cb, model_checkpoint_cb, tensorboard_cb]"
   ]
  },
  {
   "cell_type": "code",
   "execution_count": 17,
   "id": "a7b1b412-8b6a-422e-9822-a21fcad1b187",
   "metadata": {},
   "outputs": [
    {
     "data": {
      "text/plain": [
       "Reusing TensorBoard on port 6006 (pid 10642), started 1:04:54 ago. (Use '!kill 10642' to kill it.)"
      ]
     },
     "metadata": {},
     "output_type": "display_data"
    },
    {
     "data": {
      "text/html": [
       "\n",
       "      <iframe id=\"tensorboard-frame-32925b78a8d4c06a\" width=\"100%\" height=\"800\" frameborder=\"0\">\n",
       "      </iframe>\n",
       "      <script>\n",
       "        (function() {\n",
       "          const frame = document.getElementById(\"tensorboard-frame-32925b78a8d4c06a\");\n",
       "          const url = new URL(\"/\", window.location);\n",
       "          const port = 6006;\n",
       "          if (port) {\n",
       "            url.port = port;\n",
       "          }\n",
       "          frame.src = url;\n",
       "        })();\n",
       "      </script>\n",
       "    "
      ],
      "text/plain": [
       "<IPython.core.display.HTML object>"
      ]
     },
     "metadata": {},
     "output_type": "display_data"
    }
   ],
   "source": [
    "%load_ext tensorboard\n",
    "%tensorboard --logdir=./my_cifar10_logs"
   ]
  },
  {
   "cell_type": "code",
   "execution_count": 18,
   "id": "70c0d4a4-b1c5-408d-a7bc-19ecb8a1ba69",
   "metadata": {},
   "outputs": [
    {
     "name": "stdout",
     "output_type": "stream",
     "text": [
      "Epoch 1/100\n",
      "1407/1407 [==============================] - 9s 5ms/step - loss: 1.9328 - accuracy: 0.3092 - val_loss: 1.7672 - val_accuracy: 0.3686\n",
      "Epoch 2/100\n",
      "  31/1407 [..............................] - ETA: 7s - loss: 1.7337 - accuracy: 0.3700"
     ]
    },
    {
     "name": "stderr",
     "output_type": "stream",
     "text": [
      "/opt/anaconda3/envs/homl3/lib/python3.10/site-packages/keras/src/engine/training.py:3079: UserWarning: You are saving your model as an HDF5 file via `model.save()`. This file format is considered legacy. We recommend using instead the native Keras format, e.g. `model.save('my_model.keras')`.\n",
      "  saving_api.save_model(\n"
     ]
    },
    {
     "name": "stdout",
     "output_type": "stream",
     "text": [
      "1407/1407 [==============================] - 7s 5ms/step - loss: 1.7049 - accuracy: 0.3978 - val_loss: 1.6894 - val_accuracy: 0.3936\n",
      "Epoch 3/100\n",
      "1407/1407 [==============================] - 7s 5ms/step - loss: 1.6176 - accuracy: 0.4285 - val_loss: 1.7534 - val_accuracy: 0.3942\n",
      "Epoch 4/100\n",
      "1407/1407 [==============================] - 7s 5ms/step - loss: 1.5563 - accuracy: 0.4545 - val_loss: 1.6389 - val_accuracy: 0.4330\n",
      "Epoch 5/100\n",
      "1407/1407 [==============================] - 7s 5ms/step - loss: 1.5059 - accuracy: 0.4747 - val_loss: 1.6664 - val_accuracy: 0.4462\n",
      "Epoch 6/100\n",
      "1407/1407 [==============================] - 7s 5ms/step - loss: 1.4620 - accuracy: 0.4887 - val_loss: 1.5612 - val_accuracy: 0.4664\n",
      "Epoch 7/100\n",
      "1407/1407 [==============================] - 7s 5ms/step - loss: 1.4251 - accuracy: 0.4991 - val_loss: 1.5950 - val_accuracy: 0.4654\n",
      "Epoch 8/100\n",
      "1407/1407 [==============================] - 7s 5ms/step - loss: 1.3837 - accuracy: 0.5157 - val_loss: 1.5203 - val_accuracy: 0.4778\n",
      "Epoch 9/100\n",
      "1407/1407 [==============================] - 8s 6ms/step - loss: 1.3491 - accuracy: 0.5302 - val_loss: 1.5523 - val_accuracy: 0.4634\n",
      "Epoch 10/100\n",
      "1407/1407 [==============================] - 8s 6ms/step - loss: 1.3252 - accuracy: 0.5394 - val_loss: 1.5449 - val_accuracy: 0.4846\n",
      "Epoch 11/100\n",
      "1407/1407 [==============================] - 8s 6ms/step - loss: 1.2870 - accuracy: 0.5506 - val_loss: 1.6263 - val_accuracy: 0.4716\n",
      "Epoch 12/100\n",
      "1407/1407 [==============================] - 8s 6ms/step - loss: 1.2696 - accuracy: 0.5598 - val_loss: 1.5306 - val_accuracy: 0.4810\n",
      "Epoch 13/100\n",
      "1407/1407 [==============================] - 8s 6ms/step - loss: 1.2386 - accuracy: 0.5712 - val_loss: 1.5746 - val_accuracy: 0.4868\n",
      "Epoch 14/100\n",
      "1407/1407 [==============================] - 8s 6ms/step - loss: 1.2136 - accuracy: 0.5775 - val_loss: 1.5366 - val_accuracy: 0.5008\n",
      "Epoch 15/100\n",
      "1407/1407 [==============================] - 8s 6ms/step - loss: 1.1874 - accuracy: 0.5879 - val_loss: 1.6190 - val_accuracy: 0.4904\n",
      "Epoch 16/100\n",
      "1407/1407 [==============================] - 8s 6ms/step - loss: 1.1713 - accuracy: 0.5941 - val_loss: 1.5707 - val_accuracy: 0.4874\n",
      "Epoch 17/100\n",
      "1407/1407 [==============================] - 8s 6ms/step - loss: 1.1443 - accuracy: 0.6064 - val_loss: 1.5671 - val_accuracy: 0.4978\n",
      "Epoch 18/100\n",
      "1407/1407 [==============================] - 8s 6ms/step - loss: 1.1238 - accuracy: 0.6112 - val_loss: 1.6295 - val_accuracy: 0.4802\n",
      "Epoch 19/100\n",
      "1407/1407 [==============================] - 8s 6ms/step - loss: 1.1528 - accuracy: 0.6024 - val_loss: 1.6084 - val_accuracy: 0.4806\n",
      "Epoch 20/100\n",
      "1407/1407 [==============================] - 8s 6ms/step - loss: 1.1856 - accuracy: 0.5924 - val_loss: 1.5642 - val_accuracy: 0.4998\n",
      "Epoch 21/100\n",
      "1407/1407 [==============================] - 8s 6ms/step - loss: 1.0954 - accuracy: 0.6222 - val_loss: 1.6219 - val_accuracy: 0.5030\n",
      "Epoch 22/100\n",
      "1407/1407 [==============================] - 8s 6ms/step - loss: 1.0665 - accuracy: 0.6326 - val_loss: 1.6107 - val_accuracy: 0.5030\n",
      "Epoch 23/100\n",
      "1407/1407 [==============================] - 8s 6ms/step - loss: 1.0424 - accuracy: 0.6429 - val_loss: 1.6595 - val_accuracy: 0.4940\n",
      "Epoch 24/100\n",
      "1407/1407 [==============================] - 8s 6ms/step - loss: 1.0408 - accuracy: 0.6438 - val_loss: 1.7343 - val_accuracy: 0.5062\n",
      "Epoch 25/100\n",
      "1407/1407 [==============================] - 8s 6ms/step - loss: 1.0268 - accuracy: 0.6483 - val_loss: 1.6961 - val_accuracy: 0.5194\n",
      "Epoch 26/100\n",
      "1407/1407 [==============================] - 8s 6ms/step - loss: 1.0019 - accuracy: 0.6580 - val_loss: 1.6447 - val_accuracy: 0.5024\n",
      "Epoch 27/100\n",
      "1407/1407 [==============================] - 8s 6ms/step - loss: 0.9931 - accuracy: 0.6602 - val_loss: 1.5985 - val_accuracy: 0.5040\n",
      "Epoch 28/100\n",
      "1407/1407 [==============================] - 8s 6ms/step - loss: 0.9740 - accuracy: 0.6673 - val_loss: 1.7109 - val_accuracy: 0.5036\n"
     ]
    },
    {
     "data": {
      "text/plain": [
       "<keras.src.callbacks.History at 0x168887520>"
      ]
     },
     "execution_count": 18,
     "metadata": {},
     "output_type": "execute_result"
    }
   ],
   "source": [
    "model.fit(X_train_scaled, y_train, epochs=100,\n",
    "          validation_data=(X_valid_scaled, y_valid),\n",
    "          callbacks=callbacks)"
   ]
  },
  {
   "cell_type": "code",
   "execution_count": 19,
   "id": "23eeb4b3-6261-4509-b66d-834d8f833d21",
   "metadata": {},
   "outputs": [
    {
     "name": "stdout",
     "output_type": "stream",
     "text": [
      "157/157 [==============================] - 0s 1ms/step - loss: 1.5203 - accuracy: 0.4778\n"
     ]
    },
    {
     "data": {
      "text/plain": [
       "[1.5203088521957397, 0.47780001163482666]"
      ]
     },
     "execution_count": 19,
     "metadata": {},
     "output_type": "execute_result"
    }
   ],
   "source": [
    "model.evaluate(X_valid_scaled, y_valid)"
   ]
  },
  {
   "cell_type": "code",
   "execution_count": null,
   "id": "3b2e5f51-2fa1-4f0a-8ee2-6c7d6edee941",
   "metadata": {},
   "outputs": [],
   "source": []
  }
 ],
 "metadata": {
  "kernelspec": {
   "display_name": "Python 3 (ipykernel)",
   "language": "python",
   "name": "python3"
  },
  "language_info": {
   "codemirror_mode": {
    "name": "ipython",
    "version": 3
   },
   "file_extension": ".py",
   "mimetype": "text/x-python",
   "name": "python",
   "nbconvert_exporter": "python",
   "pygments_lexer": "ipython3",
   "version": "3.10.16"
  }
 },
 "nbformat": 4,
 "nbformat_minor": 5
}
