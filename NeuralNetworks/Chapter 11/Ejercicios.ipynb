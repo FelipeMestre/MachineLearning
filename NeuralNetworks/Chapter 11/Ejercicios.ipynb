{
 "cells": [
  {
   "cell_type": "code",
   "execution_count": 3,
   "id": "0c984a42-a26e-45da-bef4-75b6ef50e49c",
   "metadata": {},
   "outputs": [],
   "source": [
    "import tensorflow as tf"
   ]
  },
  {
   "cell_type": "code",
   "execution_count": 4,
   "id": "3371c8ef-de14-435e-a4fa-a17630d4a2b1",
   "metadata": {},
   "outputs": [],
   "source": [
    "from pathlib import Path"
   ]
  },
  {
   "cell_type": "code",
   "execution_count": 16,
   "id": "f5860cb5-bda0-4835-aef1-8b16852a88f7",
   "metadata": {},
   "outputs": [],
   "source": [
    "import matplotlib.pyplot as plt"
   ]
  },
  {
   "cell_type": "code",
   "execution_count": 44,
   "id": "cc29ea3f-42ca-4be2-bd4d-b4d88561c98f",
   "metadata": {},
   "outputs": [],
   "source": [
    "import numpy as np"
   ]
  },
  {
   "cell_type": "code",
   "execution_count": 5,
   "id": "5cc1fe4a-96f1-40b2-a04c-a1439f5763e2",
   "metadata": {},
   "outputs": [],
   "source": [
    "tf.random.set_seed(42)"
   ]
  },
  {
   "cell_type": "code",
   "execution_count": 6,
   "id": "05f7b0e1-3ce3-436a-859b-4e81e004b8b2",
   "metadata": {},
   "outputs": [],
   "source": [
    "model = tf.keras.Sequential()\n",
    "model.add(tf.keras.layers.Flatten(input_shape=[28,28]))"
   ]
  },
  {
   "cell_type": "code",
   "execution_count": 7,
   "id": "0b8c9d9d-62d7-4938-9550-15abb7522592",
   "metadata": {},
   "outputs": [],
   "source": [
    "for _ in range(3):\n",
    "    model.add(tf.keras.layers.Dense(100,activation=\"relu\"))"
   ]
  },
  {
   "cell_type": "code",
   "execution_count": 8,
   "id": "82418823-7405-4f92-bbc9-3771aa8b7294",
   "metadata": {},
   "outputs": [],
   "source": [
    "model.add(tf.keras.layers.Dense(10, activation=\"softmax\"))"
   ]
  },
  {
   "cell_type": "code",
   "execution_count": 9,
   "id": "a26118df-ab44-4f1e-811d-9e705dd6fe59",
   "metadata": {},
   "outputs": [],
   "source": [
    "optimizer = tf.keras.optimizers.legacy.SGD(learning_rate=0.00025)\n",
    "model.compile(loss=\"sparse_categorical_crossentropy\", optimizer=optimizer, metrics=[\"accuracy\"])"
   ]
  },
  {
   "cell_type": "code",
   "execution_count": 10,
   "id": "85cd5440-c0f7-49bb-9e9f-3dfd45127590",
   "metadata": {},
   "outputs": [],
   "source": [
    "(X_train_full, y_train_full), (X_test, y_test) = tf.keras.datasets.mnist.load_data()\n"
   ]
  },
  {
   "cell_type": "code",
   "execution_count": 11,
   "id": "ca312fbb-e4e4-43a5-a6d6-fa1628535891",
   "metadata": {},
   "outputs": [
    {
     "data": {
      "text/plain": [
       "(60000, 28, 28)"
      ]
     },
     "execution_count": 11,
     "metadata": {},
     "output_type": "execute_result"
    }
   ],
   "source": [
    "X_train_full.shape"
   ]
  },
  {
   "cell_type": "code",
   "execution_count": 13,
   "id": "5597adbf-a02b-4aa3-860b-89ba4299506b",
   "metadata": {},
   "outputs": [
    {
     "data": {
      "text/plain": [
       "dtype('uint8')"
      ]
     },
     "execution_count": 13,
     "metadata": {},
     "output_type": "execute_result"
    }
   ],
   "source": [
    "X_train_full.dtype"
   ]
  },
  {
   "cell_type": "code",
   "execution_count": 17,
   "id": "64191387-67ff-437c-823b-6c1edcdbfeaf",
   "metadata": {},
   "outputs": [],
   "source": [
    "X_valid, X_train = X_train_full[:5000] / 255., X_train_full[5000:] / 255.\n",
    "y_valid, y_train = y_train_full[:5000], y_train_full[5000:]\n",
    "X_test = X_test / 255."
   ]
  },
  {
   "cell_type": "code",
   "execution_count": 18,
   "id": "9053cf78-3ed9-4233-8aea-79e4c419f55d",
   "metadata": {},
   "outputs": [
    {
     "data": {
      "image/png": "[encoded data removed]",
      "text/plain": [
       "<Figure size 640x480 with 1 Axes>"
      ]
     },
     "metadata": {},
     "output_type": "display_data"
    }
   ],
   "source": [
    "plt.imshow(X_train[0], cmap=\"binary\")\n",
    "plt.axis('off')\n",
    "plt.show()"
   ]
  },
  {
   "cell_type": "code",
   "execution_count": 19,
   "id": "59f60e4c-da88-46f2-95b7-9ae11cc77ad4",
   "metadata": {},
   "outputs": [
    {
     "data": {
      "text/plain": [
       "array([7, 3, 4, ..., 5, 6, 8], dtype=uint8)"
      ]
     },
     "execution_count": 19,
     "metadata": {},
     "output_type": "execute_result"
    }
   ],
   "source": [
    "y_train"
   ]
  },
  {
   "cell_type": "code",
   "execution_count": 20,
   "id": "06f6ea9a-a605-4cf0-a6db-0a0cbffe575a",
   "metadata": {},
   "outputs": [
    {
     "data": {
      "text/plain": [
       "(5000, 28, 28)"
      ]
     },
     "execution_count": 20,
     "metadata": {},
     "output_type": "execute_result"
    }
   ],
   "source": [
    "X_valid.shape"
   ]
  },
  {
   "cell_type": "code",
   "execution_count": 21,
   "id": "ec77ef47-a023-4262-bba5-13d4db5178c5",
   "metadata": {},
   "outputs": [
    {
     "data": {
      "text/plain": [
       "(5000,)"
      ]
     },
     "execution_count": 21,
     "metadata": {},
     "output_type": "execute_result"
    }
   ],
   "source": [
    "y_valid.shape"
   ]
  },
  {
   "cell_type": "code",
   "execution_count": 22,
   "id": "cc7d7850-1523-4a3f-b854-8465a245075e",
   "metadata": {},
   "outputs": [
    {
     "data": {
      "text/plain": [
       "(10000, 28, 28)"
      ]
     },
     "execution_count": 22,
     "metadata": {},
     "output_type": "execute_result"
    }
   ],
   "source": [
    "X_test.shape"
   ]
  },
  {
   "cell_type": "code",
   "execution_count": 25,
   "id": "a28b5674-b43c-4ad3-b1f1-c59cd26c465a",
   "metadata": {},
   "outputs": [],
   "source": [
    "rows = 5"
   ]
  },
  {
   "cell_type": "code",
   "execution_count": 26,
   "id": "cc115a0f-65a4-4976-835f-090d01984b3e",
   "metadata": {},
   "outputs": [],
   "source": [
    "cols = 10"
   ]
  },
  {
   "cell_type": "code",
   "execution_count": 37,
   "id": "c076ba6e-86a7-4cde-b529-81098c955be6",
   "metadata": {},
   "outputs": [
    {
     "data": {
      "image/png": "[encoded data removed]",
      "text/plain": [
       "<Figure size 1200x600 with 50 Axes>"
      ]
     },
     "metadata": {},
     "output_type": "display_data"
    }
   ],
   "source": [
    "plt.figure(figsize=(cols * 1.2, rows * 1.2)) # Crea una nueva figura con un tamaño proporcional a la cantidad de columnas y filas (para que se vea bien en pantalla).\n",
    "for row in range(rows):\n",
    "    for col in range(cols):\n",
    "        index = cols * row + col # Recorre cada celda de la cuadrícula y calcula el índice de la imagen correspondiente. Por ejemplo, si row=1 y col=2, index = 1*cols + 2.\n",
    "        plt.subplot(rows, cols, index + 1) #Crea el subplot en la posición (index + 1) de la cuadrícula total rows x cols.\n",
    "        plt.imshow(X_train[index], cmap=\"binary\", interpolation=\"nearest\") #Muestra la imagen en escala de grises (colormap binary) sin interpolación (cada píxel se ve nítido).\n",
    "        plt.axis(\"off\") #Oculta los ejes\n",
    "        plt.title(y_train[index]) #Muestra el numero correcto\n",
    "plt.subplots_adjust(wspace=0.5, hspace=0.2) #Ajusta el espacio horizontal (wspace) y vertical (hspace) entre subplots para que no se solapen.\n",
    "plt.show()"
   ]
  },
  {
   "cell_type": "markdown",
   "id": "0d63e501-82d2-4b6e-8664-db8cbdb45e52",
   "metadata": {},
   "source": [
    "Let's build a simple dense network and find the optimal learning rate. We will need a callback to grow the learning rate at each iteration. It will also record the learning rate and the loss at each iteration:"
   ]
  },
  {
   "cell_type": "code",
   "execution_count": 39,
   "id": "22033180-7b92-451c-b262-b813a521857d",
   "metadata": {},
   "outputs": [],
   "source": [
    "K = tf.keras.backend\n",
    "class ExponentialLearningRate(tf.keras.callbacks.Callback):\n",
    "    def __init__(self,factor):\n",
    "        self.factor = factor\n",
    "        self.rates = []\n",
    "        self.losses = []\n",
    "\n",
    "    def on_batch_end(self, batch, logs=None):\n",
    "        lr = self.model.optimizer.learning_rate.numpy() * self.factor\n",
    "        self.model.optimizer.learning_rate = lr\n",
    "        self.rates.append(lr)\n",
    "        self.losses.append(logs[\"loss\"])"
   ]
  },
  {
   "cell_type": "markdown",
   "id": "34c4a5d6-f696-46e5-8b06-77ac26683f35",
   "metadata": {},
   "source": [
    "- on_batch_end es un método que se ejecuta automáticamente al final de cada batch durante el entrenamiento de un modelo con model.fit(...).\n",
    "- Forma parte del sistema de callbacks de Keras.\n",
    "- Sirve para ejecutar código personalizado después de que se haya completado el entrenamiento de un batch.\n",
    "- batch: número del batch actual dentro de la época.\n",
    "- logs: un diccionario que contiene métricas recogidas durante el batch (por ejemplo: loss, accuracy, etc.)\n",
    "\n",
    "La primer linea Obtiene el learning rate actual desde el optimizador del modelo (self.model.optimizer.learning_rate).\n",
    "Convierte ese valor Tensor a un número (.numpy()).\n",
    "Lo multiplica por el factor dado al constructor.\n",
    "Resultado: un nuevo learning rate más grande o más pequeño, según el factor.\n",
    "\n",
    "Luego asigna ese nuevo learning rate al optimizador. Esto cambia dinámicamente el learning rate del modelo para el próximo batch. Guarda el nuevo learning rate en una lista para poder graficarlo o analizarlo después del entrenamiento. Agrega el loss (pérdida) de este batch a otra lista. Sirve para ver cómo evoluciona el error junto con el learning rate."
   ]
  },
  {
   "cell_type": "markdown",
   "id": "9bedf350-c92c-4169-819c-c923339fd47b",
   "metadata": {},
   "source": [
    "Un tensor es una estructura de datos que generaliza los conceptos de escalar (número), vector (lista de números) y matriz (tabla de números) a cualquier número de dimensiones. En bibliotecas como TensorFlow, los tensores son los objetos fundamentales que representan datos: pueden tener desde cero dimensiones (un número) hasta muchas dimensiones (por ejemplo, una imagen en color representada como un tensor 3D: alto × ancho × canales). Son especialmente útiles porque pueden ejecutarse de forma eficiente en CPUs, GPUs o TPUs, y son la base para todas las operaciones matemáticas en redes neuronales.\n",
    "\n",
    "En TensorFlow, self.model.optimizer.learning_rate es un tensor, no un número Python común. Esto permite que TensorFlow mantenga el valor del learning rate como parte del grafo computacional. Sin embargo, si necesitás usar ese valor fuera del grafo (por ejemplo, para imprimirlo o modificarlo con operaciones normales de Python), debés convertirlo a un número real. Eso es lo que hace .numpy() — extrae el valor del tensor y lo convierte en un tipo de dato nativo de NumPy (como un float), permitiendo manipularlo como si fuera un número común en Python."
   ]
  },
  {
   "cell_type": "code",
   "execution_count": 45,
   "id": "9f00c868-91d0-4a4c-a0db-5e89f6720a80",
   "metadata": {},
   "outputs": [],
   "source": [
    "tf.keras.backend.clear_session()\n",
    "np.random.seed(42)\n",
    "tf.random.set_seed(42)"
   ]
  },
  {
   "cell_type": "code",
   "execution_count": 46,
   "id": "88afcf4b-5343-4f36-baec-97380dfa5cd6",
   "metadata": {},
   "outputs": [],
   "source": [
    "model = tf.keras.Sequential([\n",
    "    tf.keras.layers.Flatten(input_shape=[28, 28]),\n",
    "    tf.keras.layers.Dense(300, activation=\"relu\"),\n",
    "    tf.keras.layers.Dense(100, activation=\"relu\"),\n",
    "    tf.keras.layers.Dense(10, activation=\"softmax\")\n",
    "])"
   ]
  },
  {
   "cell_type": "code",
   "execution_count": 48,
   "id": "fdd35c5e-610a-42ca-b4dd-872e937b13ff",
   "metadata": {},
   "outputs": [],
   "source": [
    "optimizer = tf.keras.optimizers.legacy.SGD(learning_rate=1e-3)\n",
    "model.compile(loss=\"sparse_categorical_crossentropy\", optimizer=optimizer,\n",
    "              metrics=[\"accuracy\"])\n",
    "expon_lr = ExponentialLearningRate(factor=1.005)"
   ]
  },
  {
   "cell_type": "code",
   "execution_count": 49,
   "id": "ebb093cd-77b6-4869-9df2-94d201a1f6ab",
   "metadata": {},
   "outputs": [
    {
     "name": "stdout",
     "output_type": "stream",
     "text": [
      "1719/1719 [==============================] - 3s 1ms/step - loss: nan - accuracy: 0.5875 - val_loss: nan - val_accuracy: 0.0958\n"
     ]
    }
   ],
   "source": [
    "history = model.fit(X_train, y_train, epochs=1,\n",
    "                    validation_data=(X_valid, y_valid),\n",
    "                    callbacks=[expon_lr])"
   ]
  },
  {
   "cell_type": "markdown",
   "id": "64cf791c-2f3d-49df-bcc9-ee9c0a326183",
   "metadata": {},
   "source": [
    "Ahora se hace una grafica de pérdida vs learning rate"
   ]
  },
  {
   "cell_type": "code",
   "execution_count": 61,
   "id": "fe454b23-d171-4249-a143-5e66bb65abe8",
   "metadata": {},
   "outputs": [
    {
     "data": {
      "text/plain": [
       "Text(0, 0.5, 'Loss')"
      ]
     },
     "execution_count": 61,
     "metadata": {},
     "output_type": "execute_result"
    },
    {
     "data": {
      "image/png": "[encoded data removed]",
      "text/plain": [
       "<Figure size 640x480 with 1 Axes>"
      ]
     },
     "metadata": {},
     "output_type": "display_data"
    }
   ],
   "source": [
    "plt.plot(expon_lr.rates, expon_lr.losses)\n",
    "plt.gca().set_xscale(\"log\")\n",
    "plt.hlines(min(expon_lr.losses), min(expon_lr.rates), max(expon_lr.rates))\n",
    "plt.axis([min(expon_lr.rates), max(expon_lr.rates), 0, expon_lr.losses[0]])\n",
    "plt.grid()\n",
    "plt.xlabel(\"Learning rate\")\n",
    "plt.ylabel(\"Loss\")"
   ]
  },
  {
   "cell_type": "markdown",
   "id": "dd13bed8-91d7-4d4e-958a-c74b5a359ca9",
   "metadata": {},
   "source": [
    "Este código utiliza Matplotlib para graficar cómo varía la pérdida (loss) del modelo en función del learning rate (learning rate), después de haber entrenado el modelo usando un callback personalizado que modifica el learning rate exponencialmente en cada batch (como ExponentialLearningRate). El objetivo principal de esta gráfica es ayudarte a encontrar el rango óptimo de valores para el learning rate, una técnica muy útil conocida como Learning Rate Finder. La curva resultante suele mostrar que, a medida que el learning rate aumenta, la pérdida primero mejora (disminuye) y luego empeora drásticamente. Observar este comportamiento permite elegir un learning rate que esté justo antes del punto donde la pérdida empieza a explotar.\n",
    "\n",
    "La gráfica usa una escala logarítmica en el eje X (set_xscale(\"log\")) porque los valores del learning rate suelen cambiar en órdenes de magnitud (por ejemplo, de 1e-7 a 1). Una escala lineal no representaría bien esa variación; con escala logarítmica, se pueden ver claramente tanto los valores muy pequeños como los grandes en un mismo gráfico. La línea horizontal (hlines(...)) marca el valor mínimo alcanzado por la pérdida, como referencia visual. Por último, plt.axis([...]) limita los valores que se muestran en los ejes: el eje X se acota usando min y max del learning rate, mientras que el eje Y va de 0 hasta el primer valor de pérdida (expon_lr.losses[0]), probablemente para evitar mostrar valores de pérdida extremadamente grandes que distorsionen la escala. En conjunto, esta visualización permite seleccionar un buen valor inicial para el learning rate antes de un entrenamiento más largo."
   ]
  },
  {
   "cell_type": "code",
   "execution_count": 62,
   "id": "3c19217c-d95d-4f03-ad58-dbf8a0571b47",
   "metadata": {},
   "outputs": [],
   "source": [
    "tf.keras.backend.clear_session()\n",
    "np.random.seed(42)\n",
    "tf.random.set_seed(42)"
   ]
  },
  {
   "cell_type": "markdown",
   "id": "1084a578-9658-4b75-bee8-f99213824dd1",
   "metadata": {},
   "source": [
    "Se resetan los valores y la semilla, para no alterar el modelo con el proceso de encontrar los learning rates"
   ]
  },
  {
   "cell_type": "code",
   "execution_count": 63,
   "id": "8c4e86f1-aa61-45b4-9637-d194fb11354f",
   "metadata": {},
   "outputs": [],
   "source": [
    "model = tf.keras.Sequential([\n",
    "    tf.keras.layers.Flatten(input_shape=[28, 28]),\n",
    "    tf.keras.layers.Dense(300, activation=\"relu\"),\n",
    "    tf.keras.layers.Dense(100, activation=\"relu\"),\n",
    "    tf.keras.layers.Dense(10, activation=\"softmax\")\n",
    "])"
   ]
  },
  {
   "cell_type": "code",
   "execution_count": 65,
   "id": "33689fd5-5c54-4800-a591-0bf0640d2e45",
   "metadata": {},
   "outputs": [],
   "source": [
    "optimizer = tf.keras.optimizers.legacy.SGD(learning_rate=3e-1)\n",
    "model.compile(loss=\"sparse_categorical_crossentropy\", optimizer=optimizer,\n",
    "              metrics=[\"accuracy\"])"
   ]
  },
  {
   "cell_type": "code",
   "execution_count": 66,
   "id": "62c50aac-ae14-4e5b-bdfd-ef915154851c",
   "metadata": {},
   "outputs": [
    {
     "data": {
      "text/plain": [
       "PosixPath('my_mnist_logs/run_001')"
      ]
     },
     "execution_count": 66,
     "metadata": {},
     "output_type": "execute_result"
    }
   ],
   "source": [
    "run_index = 1 # increment this at every run\n",
    "run_logdir = Path() / \"my_mnist_logs\" / \"run_{:03d}\".format(run_index)\n",
    "run_logdir"
   ]
  },
  {
   "cell_type": "code",
   "execution_count": 68,
   "id": "a048e2eb-6f37-41f4-915b-d9c6141888ba",
   "metadata": {},
   "outputs": [
    {
     "name": "stdout",
     "output_type": "stream",
     "text": [
      "Epoch 1/100\n",
      "1719/1719 [==============================] - 2s 1ms/step - loss: 0.0922 - accuracy: 0.9717 - val_loss: 0.0863 - val_accuracy: 0.9750\n",
      "Epoch 2/100\n",
      " 138/1719 [=>............................] - ETA: 1s - loss: 0.0508 - accuracy: 0.9826"
     ]
    },
    {
     "name": "stderr",
     "output_type": "stream",
     "text": [
      "/opt/anaconda3/envs/homl3/lib/python3.10/site-packages/keras/src/engine/training.py:3079: UserWarning: You are saving your model as an HDF5 file via `model.save()`. This file format is considered legacy. We recommend using instead the native Keras format, e.g. `model.save('my_model.keras')`.\n",
      "  saving_api.save_model(\n"
     ]
    },
    {
     "name": "stdout",
     "output_type": "stream",
     "text": [
      "1719/1719 [==============================] - 2s 1ms/step - loss: 0.0672 - accuracy: 0.9790 - val_loss: 0.0855 - val_accuracy: 0.9776\n",
      "Epoch 3/100\n",
      "1719/1719 [==============================] - 2s 1ms/step - loss: 0.0493 - accuracy: 0.9838 - val_loss: 0.0687 - val_accuracy: 0.9814\n",
      "Epoch 4/100\n",
      "1719/1719 [==============================] - 2s 1ms/step - loss: 0.0379 - accuracy: 0.9877 - val_loss: 0.0839 - val_accuracy: 0.9774\n",
      "Epoch 5/100\n",
      "1719/1719 [==============================] - 2s 1ms/step - loss: 0.0321 - accuracy: 0.9894 - val_loss: 0.0800 - val_accuracy: 0.9802\n",
      "Epoch 6/100\n",
      "1719/1719 [==============================] - 2s 1ms/step - loss: 0.0236 - accuracy: 0.9923 - val_loss: 0.0675 - val_accuracy: 0.9834\n",
      "Epoch 7/100\n",
      "1719/1719 [==============================] - 2s 1ms/step - loss: 0.0204 - accuracy: 0.9929 - val_loss: 0.0904 - val_accuracy: 0.9790\n",
      "Epoch 8/100\n",
      "1719/1719 [==============================] - 2s 1ms/step - loss: 0.0174 - accuracy: 0.9942 - val_loss: 0.0802 - val_accuracy: 0.9808\n",
      "Epoch 9/100\n",
      "1719/1719 [==============================] - 2s 1ms/step - loss: 0.0127 - accuracy: 0.9959 - val_loss: 0.0873 - val_accuracy: 0.9828\n",
      "Epoch 10/100\n",
      "1719/1719 [==============================] - 2s 1ms/step - loss: 0.0082 - accuracy: 0.9976 - val_loss: 0.0880 - val_accuracy: 0.9826\n",
      "Epoch 11/100\n",
      "1719/1719 [==============================] - 2s 1ms/step - loss: 0.0079 - accuracy: 0.9975 - val_loss: 0.1063 - val_accuracy: 0.9784\n",
      "Epoch 12/100\n",
      "1719/1719 [==============================] - 2s 1ms/step - loss: 0.0060 - accuracy: 0.9982 - val_loss: 0.0958 - val_accuracy: 0.9788\n",
      "Epoch 13/100\n",
      "1719/1719 [==============================] - 2s 1ms/step - loss: 0.0059 - accuracy: 0.9979 - val_loss: 0.0909 - val_accuracy: 0.9810\n",
      "Epoch 14/100\n",
      "1719/1719 [==============================] - 2s 1ms/step - loss: 0.0047 - accuracy: 0.9985 - val_loss: 0.0930 - val_accuracy: 0.9826\n",
      "Epoch 15/100\n",
      "1719/1719 [==============================] - 2s 1ms/step - loss: 0.0074 - accuracy: 0.9975 - val_loss: 0.0927 - val_accuracy: 0.9820\n",
      "Epoch 16/100\n",
      "1719/1719 [==============================] - 2s 1ms/step - loss: 0.0048 - accuracy: 0.9986 - val_loss: 0.1080 - val_accuracy: 0.9812\n",
      "Epoch 17/100\n",
      "1719/1719 [==============================] - 2s 1ms/step - loss: 0.0093 - accuracy: 0.9971 - val_loss: 0.1018 - val_accuracy: 0.9798\n",
      "Epoch 18/100\n",
      "1719/1719 [==============================] - 2s 1ms/step - loss: 0.0091 - accuracy: 0.9969 - val_loss: 0.1226 - val_accuracy: 0.9766\n",
      "Epoch 19/100\n",
      "1719/1719 [==============================] - 2s 1ms/step - loss: 0.0055 - accuracy: 0.9982 - val_loss: 0.1286 - val_accuracy: 0.9770\n",
      "Epoch 20/100\n",
      "1719/1719 [==============================] - 2s 1ms/step - loss: 0.0063 - accuracy: 0.9981 - val_loss: 0.0946 - val_accuracy: 0.9824\n",
      "Epoch 21/100\n",
      "1719/1719 [==============================] - 2s 1ms/step - loss: 0.0055 - accuracy: 0.9982 - val_loss: 0.1048 - val_accuracy: 0.9816\n",
      "Epoch 22/100\n",
      "1719/1719 [==============================] - 2s 1ms/step - loss: 0.0079 - accuracy: 0.9975 - val_loss: 0.0969 - val_accuracy: 0.9828\n",
      "Epoch 23/100\n",
      "1719/1719 [==============================] - 2s 1ms/step - loss: 0.0040 - accuracy: 0.9987 - val_loss: 0.1019 - val_accuracy: 0.9840\n",
      "Epoch 24/100\n",
      "1719/1719 [==============================] - 2s 1ms/step - loss: 0.0019 - accuracy: 0.9996 - val_loss: 0.0971 - val_accuracy: 0.9834\n",
      "Epoch 25/100\n",
      "1719/1719 [==============================] - 2s 1ms/step - loss: 3.3798e-04 - accuracy: 1.0000 - val_loss: 0.0943 - val_accuracy: 0.9850\n",
      "Epoch 26/100\n",
      "1719/1719 [==============================] - 2s 1ms/step - loss: 6.5444e-05 - accuracy: 1.0000 - val_loss: 0.0960 - val_accuracy: 0.9848\n"
     ]
    }
   ],
   "source": [
    "early_stopping_cb = tf.keras.callbacks.EarlyStopping(patience=20)\n",
    "checkpoint_cb = tf.keras.callbacks.ModelCheckpoint(\"my_mnist_model.h5\", save_best_only=True)\n",
    "tensorboard_cb = tf.keras.callbacks.TensorBoard(run_logdir)\n",
    "\n",
    "history = model.fit(X_train, y_train, epochs=100,\n",
    "                    validation_data=(X_valid, y_valid),\n",
    "                    callbacks=[checkpoint_cb, early_stopping_cb, tensorboard_cb])"
   ]
  },
  {
   "cell_type": "code",
   "execution_count": 70,
   "id": "1fc3a182-b44c-4b8c-bd22-8d5ed109266f",
   "metadata": {},
   "outputs": [
    {
     "data": {
      "text/plain": [
       "ERROR: Failed to launch TensorBoard (exited with 1).\n",
       "Contents of stderr:\n",
       "NOTE: Using experimental fast data loading logic. To disable, pass\n",
       "    \"--load_fast=false\" and report issues on GitHub. More details:\n",
       "    https://github.com/tensorflow/tensorboard/issues/4784\n",
       "\n",
       "Address already in use\n",
       "Port 6006 is in use by another program. Either identify and stop that program, or start the server with a different port."
      ]
     },
     "metadata": {},
     "output_type": "display_data"
    }
   ],
   "source": [
    "%load_ext tensorboard\n",
    "%tensorboard --logdir=./my_mnist_logs"
   ]
  },
  {
   "cell_type": "code",
   "execution_count": null,
   "id": "0d1a9a55-f96a-4549-95d5-7e4148f47724",
   "metadata": {},
   "outputs": [],
   "source": []
  }
 ],
 "metadata": {
  "kernelspec": {
   "display_name": "Python 3 (ipykernel)",
   "language": "python",
   "name": "python3"
  },
  "language_info": {
   "codemirror_mode": {
    "name": "ipython",
    "version": 3
   },
   "file_extension": ".py",
   "mimetype": "text/x-python",
   "name": "python",
   "nbconvert_exporter": "python",
   "pygments_lexer": "ipython3",
   "version": "3.10.16"
  }
 },
 "nbformat": 4,
 "nbformat_minor": 5
}
