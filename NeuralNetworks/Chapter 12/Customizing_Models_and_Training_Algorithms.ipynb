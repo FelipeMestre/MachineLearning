{
 "cells": [
  {
   "cell_type": "markdown",
   "id": "b5504a33-ab64-43b2-b071-635a73420427",
   "metadata": {},
   "source": [
    "# Customizing Models and training algorithms\n",
    "\n",
    "## Loss Function\n",
    "En algunos casos quizás por las características de los datos, sea necesario utilizar funciones de costo alternativas, como en este ejemplo donde se simula la implementación de Huber loss function a pesar de que keras contiene tf.keras.losses.Huber. \n",
    "\n",
    "En un caso hipotético donde se entrena un modelo de regresión, y luego de realizar la limpieza de outliers de los datos, aún mantienen cierto ruido, por lo cual el error cuadratico medio puede penalizar demasiado a errores largos y generar un modelo impreciso. El error absoluto medio quizás no penaliza tanto a los outliers, pero el entrenamiento pueden demorar en converger, y el modelo entrenado puede ser impreciso también. Por lo tanto se procede a usar una función de pérdida custom en lugar de MSE.\n"
   ]
  },
  {
   "cell_type": "code",
   "execution_count": 2,
   "id": "72300d13-f48e-41fa-b027-9138179db8db",
   "metadata": {},
   "outputs": [],
   "source": [
    "import tensorflow as tf\n",
    "\n",
    "def huber_fn(y_true, y_pred):\n",
    "    error = y_true - y_pred\n",
    "    max_error = 1\n",
    "    is_small_error = tf.abs(error) < max_error\n",
    "    squared_loss = tf.square(error)\n",
    "    linear_loss = tf.abs(error) - 0.5\n",
    "    return tf.where(is_small_error, squared_loss, linear_loss)"
   ]
  },
  {
   "cell_type": "markdown",
   "id": "0fa1f281-5411-4f94-9f2f-0048f6c336cb",
   "metadata": {},
   "source": [
    "Para mejor performance se debe utilizar únicamente una implementación vectorial, para beneficiarse de la optimización de TensorFlow solo se deben usar operaciones de TensorFlow"
   ]
  },
  {
   "cell_type": "code",
   "execution_count": 3,
   "id": "4146f701-9e24-41c5-955f-ba58cb66c8dc",
   "metadata": {},
   "outputs": [],
   "source": [
    "@tf.function\n",
    "def huber_fn(y_true, y_pred, delta=1.0):\n",
    "    error = y_true - y_pred\n",
    "    abs_error = tf.abs(error)\n",
    "    quadratic = 0.5 * tf.square(error)\n",
    "    linear = delta * (abs_error - 0.5 * delta)\n",
    "    return tf.where(abs_error <= delta, quadratic, linear)"
   ]
  },
  {
   "cell_type": "markdown",
   "id": "735579a0-eb8a-4238-9de1-f7c303d0b877",
   "metadata": {},
   "source": [
    "- Vectorización total: todo opera sobre tensores, sin bucles.\n",
    "- Multiplica por delta en la parte lineal (más general y matemáticamente correcto).\n",
    "- Decorador @tf.function: compila la función en una graph function, mejorando performance al ser usado en entrenamiento o producción."
   ]
  },
  {
   "cell_type": "code",
   "execution_count": null,
   "id": "ad237084-8fb9-4d1d-8992-c87dbf0fceb3",
   "metadata": {},
   "outputs": [],
   "source": []
  }
 ],
 "metadata": {
  "kernelspec": {
   "display_name": "Python 3 (ipykernel)",
   "language": "python",
   "name": "python3"
  },
  "language_info": {
   "codemirror_mode": {
    "name": "ipython",
    "version": 3
   },
   "file_extension": ".py",
   "mimetype": "text/x-python",
   "name": "python",
   "nbconvert_exporter": "python",
   "pygments_lexer": "ipython3",
   "version": "3.10.16"
  }
 },
 "nbformat": 4,
 "nbformat_minor": 5
}
